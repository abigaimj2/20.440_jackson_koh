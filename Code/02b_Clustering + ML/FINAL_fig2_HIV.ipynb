{
 "cells": [
  {
   "cell_type": "code",
   "execution_count": null,
   "id": "a4f17412",
   "metadata": {},
   "outputs": [],
   "source": [
    "import numpy as np\n",
    "import pandas as pd\n",
    "import seaborn as sns\n",
    "import matplotlib.pyplot as plt\n",
    "from sklearn.preprocessing import StandardScaler\n",
    "from sklearn.cluster import KMeans\n",
    "from sklearn.decomposition import PCA, TruncatedSVD\n",
    "from sklearn.cluster import KMeans\n",
    "from sklearn.metrics import silhouette_score\n",
    "from scipy.cluster.hierarchy import linkage, dendrogram, fcluster\n",
    "from scipy.sparse import csr_matrix\n",
    "from scipy.stats import mannwhitneyu"
   ]
  },
  {
   "cell_type": "markdown",
   "id": "ee691167",
   "metadata": {},
   "source": [
    "# *NOTES\n",
    "Methylation data has been pre-processed and standardized (Esteban-Cantos et al., 2023)"
   ]
  },
  {
   "cell_type": "markdown",
   "id": "a8f7f69c",
   "metadata": {},
   "source": [
    "# 1. Hierarchical clustering of methylation levels in HIV "
   ]
  },
  {
   "cell_type": "markdown",
   "id": "6ab59234",
   "metadata": {},
   "source": [
    "## Infection\n",
    "HIV- vs HIV+/pre-ART"
   ]
  },
  {
   "cell_type": "code",
   "execution_count": null,
   "id": "4b2ed35d",
   "metadata": {},
   "outputs": [],
   "source": [
    "# Load DNA methylation data as a pandas DataFrame\n",
    "methylation_data = pd.read_csv('Data/methylation_values.csv', index_col=0)\n",
    "methylation_data_infection = methylation_data.drop('β-value_HIV+ post-ART', axis=1)\n",
    "cpg_ids = methylation_data_infection.pop('CpG_ID')\n",
    "\n",
    "# Drop CpG_IDs with NaN (NOTE: there should be none)\n",
    "methylation_data_infection.dropna(inplace=True)\n",
    "\n",
    "# Saving to csv\n",
    "methylation_data_infection.to_csv('Data/methylation_data_infection.csv')\n",
    "methylation_data_infection"
   ]
  },
  {
   "cell_type": "code",
   "execution_count": null,
   "id": "e702ba33",
   "metadata": {},
   "outputs": [],
   "source": [
    "# Generate a clustermap \n",
    "sns.clustermap(methylation_data_infection, cmap='coolwarm')\n",
    "\n",
    "# Display the heatmap\n",
    "plt.show()"
   ]
  },
  {
   "cell_type": "code",
   "execution_count": null,
   "id": "d0741312",
   "metadata": {},
   "outputs": [],
   "source": [
    "# Choosing the optimal number of clusters using k-means and calculating within-cluster sum of squares for each number \n",
    "# of clusters\n",
    "inertias = []\n",
    "for k in range(1, 11):\n",
    "    kmeans = KMeans(n_clusters=k)\n",
    "    kmeans.fit(methylation_data_infection)\n",
    "    inertias.append(kmeans.inertia_)\n",
    "\n",
    "# Plot the number of clusters against the within-cluster sum of squares\n",
    "plt.plot(range(1, 11), inertias, 'bx-')\n",
    "plt.xlabel('Number of Clusters')\n",
    "plt.ylabel('Within-Cluster Sum of Squares')\n",
    "plt.title('Elbow Method: Infection')\n",
    "plt.show()"
   ]
  },
  {
   "cell_type": "code",
   "execution_count": null,
   "id": "0b330d1f",
   "metadata": {},
   "outputs": [],
   "source": [
    "# Silhouette coefficient using optimal number of clusters\n",
    "kmeans = KMeans(n_clusters=2, init='k-means++', max_iter=100)\n",
    "kmeans.fit(methylation_data_infection)\n",
    "labels = kmeans.labels_\n",
    "centroids = kmeans.cluster_centers_\n",
    "\n",
    "silhouette_avg = silhouette_score(methylation_data_infection, labels)\n",
    "print(\"The average silhouette coefficient is :\", silhouette_avg)"
   ]
  },
  {
   "cell_type": "code",
   "execution_count": null,
   "id": "8c4eec1d",
   "metadata": {},
   "outputs": [],
   "source": [
    "# Clustering by methylation level\n",
    "# Calculating linkage matrix\n",
    "linkages = linkage(methylation_data_infection, method='average') # Computing linkage matrix using average method\n",
    "\n",
    "k = 2 # Number of clusters\n",
    "clusters = fcluster(linkages, k, criterion='maxclust') # Assigns observations to at most k clusters\n",
    "colors = sns.color_palette(\"Set1\", n_colors=k)\n",
    "row_colors = [colors[label - 1] for label in clusters] # Red (cluster 1) is hyper, blue (cluster 2) is hypo\n",
    "\n",
    "sns.clustermap(methylation_data_infection, row_colors=row_colors, cmap='coolwarm') \n",
    "\n",
    "silhouette_avg = silhouette_score(methylation_data_infection, clusters)\n",
    "print(\"The average silhouette coefficient is :\", silhouette_avg)"
   ]
  },
  {
   "cell_type": "code",
   "execution_count": null,
   "id": "81f2730c",
   "metadata": {},
   "outputs": [],
   "source": [
    "# Extracting CpG_IDs for each methylation level cluster\n",
    "cpg_ids = np.array(cpg_ids)\n",
    "infection_clusters = np.array(clusters)\n",
    "hyper = []\n",
    "hypo = []\n",
    "\n",
    "for i, cluster in enumerate(infection_clusters):\n",
    "    if cluster == 1:\n",
    "        hyper.append(cpg_ids[i])\n",
    "    else:\n",
    "        hypo.append(cpg_ids[i])\n",
    "        \n",
    "# Saving to csv files \n",
    "infection_cpgs_high = pd.DataFrame(hyper, columns=['CpG_ID'])\n",
    "infection_cpgs_high.to_csv('Data/infection_cpgs_high.csv')\n",
    "infection_cpgs_low = pd.DataFrame(hypo, columns=['CpG_ID'])\n",
    "infection_cpgs_low.to_csv('Data/infection_cpgs_low.csv')"
   ]
  },
  {
   "cell_type": "markdown",
   "id": "c64f600a",
   "metadata": {},
   "source": [
    "## Treatment\n",
    "HIV+/pre-ART vs HIV+/post-ART"
   ]
  },
  {
   "cell_type": "code",
   "execution_count": null,
   "id": "992e89c5",
   "metadata": {},
   "outputs": [],
   "source": [
    "# Load DNA methylation data as a pandas DataFrame\n",
    "methylation_data = pd.read_csv('Data/treatment_df.csv', index_col=0)\n",
    "methylation_data_treatment = methylation_data.drop('Δβ-value_HIV+ pre-ART vs. HIV+ post-ART', axis=1)\n",
    "cpg_ids = methylation_data_treatment.pop('CpG_ID')\n",
    "\n",
    "# Drop CpG_IDs with NaN (NOTE: there should be none)\n",
    "methylation_data_treatment.dropna(inplace=True)\n",
    "\n",
    "# Saving to csv\n",
    "methylation_data_treatment.to_csv('Data/methylation_data_treatment.csv')\n",
    "methylation_data_treatment"
   ]
  },
  {
   "cell_type": "code",
   "execution_count": null,
   "id": "8db3c3f1",
   "metadata": {},
   "outputs": [],
   "source": [
    "# Generate a clustermap \n",
    "sns.clustermap(methylation_data_treatment, cmap='coolwarm')\n",
    "\n",
    "# Display the heatmap\n",
    "plt.show()"
   ]
  },
  {
   "cell_type": "code",
   "execution_count": null,
   "id": "4aa08c88",
   "metadata": {},
   "outputs": [],
   "source": [
    "# Choosing the optimal number of clusters using k-means and calculating within-cluster sum of squares for each number \n",
    "# of clusters\n",
    "inertias = []\n",
    "for k in range(1, 11):\n",
    "    kmeans = KMeans(n_clusters=k)\n",
    "    kmeans.fit(methylation_data_treatment)\n",
    "    inertias.append(kmeans.inertia_)\n",
    "\n",
    "# Plot the number of clusters against the within-cluster sum of squares\n",
    "plt.plot(range(1, 11), inertias, 'bx-')\n",
    "plt.xlabel('Number of Clusters')\n",
    "plt.ylabel('Within-Cluster Sum of Squares')\n",
    "plt.title('Elbow Method: Treatment')\n",
    "plt.show()"
   ]
  },
  {
   "cell_type": "code",
   "execution_count": null,
   "id": "30e5f818",
   "metadata": {},
   "outputs": [],
   "source": [
    "# Silhouette coefficient using optimal number of clusters\n",
    "kmeans = KMeans(n_clusters=2, init='k-means++', max_iter=100)\n",
    "kmeans.fit(methylation_data_treatment)\n",
    "labels = kmeans.labels_\n",
    "centroids = kmeans.cluster_centers_\n",
    "\n",
    "silhouette_avg = silhouette_score(methylation_data_treatment, labels)\n",
    "print(\"The average silhouette coefficient is :\", silhouette_avg)"
   ]
  },
  {
   "cell_type": "code",
   "execution_count": null,
   "id": "c1517b7c",
   "metadata": {},
   "outputs": [],
   "source": [
    "# Clustering by methylation level\n",
    "# Calculating linkage matrix\n",
    "linkages = linkage(methylation_data_treatment, method='average') # Computing linkage matrix using average method\n",
    "\n",
    "k = 2 # Number of clusters\n",
    "clusters = fcluster(linkages, k, criterion='maxclust') # Assigns observations to at most k clusters\n",
    "colors = sns.color_palette(\"Set1\", n_colors=k)\n",
    "row_colors = [colors[label - 1] for label in clusters] # So red (cluster 1) is hypo, blue (cluster 2) is hyper\n",
    "\n",
    "sns.clustermap(methylation_data_treatment, row_colors=row_colors, cmap='coolwarm') \n",
    "\n",
    "silhouette_avg = silhouette_score(methylation_data_treatment, clusters)\n",
    "print(\"The average silhouette coefficient is :\", silhouette_avg)"
   ]
  },
  {
   "cell_type": "code",
   "execution_count": null,
   "id": "4fd8d2fd",
   "metadata": {},
   "outputs": [],
   "source": [
    "# Extracting CpG_IDs for each methylation level cluster\n",
    "cpg_ids = np.array(cpg_ids)\n",
    "treatment_clusters = np.array(clusters)\n",
    "hyper = []\n",
    "hypo = []\n",
    "\n",
    "for i, cluster in enumerate(treatment_clusters):\n",
    "    if cluster == 1:\n",
    "        hypo.append(cpg_ids[i])\n",
    "    else:\n",
    "        hyper.append(cpg_ids[i])\n",
    "        \n",
    "# Saving to csv files \n",
    "treatment_cpgs_high = pd.DataFrame(hyper, columns=['CpG_ID'])\n",
    "treatment_cpgs_high.to_csv('Data/treatment_cpgs_high.csv')\n",
    "treatment_cpgs_low = pd.DataFrame(hypo, columns=['CpG_ID'])\n",
    "treatment_cpgs_low.to_csv('Data/treatment_cpgs_low.csv')"
   ]
  },
  {
   "cell_type": "markdown",
   "id": "3ccba768",
   "metadata": {},
   "source": [
    "# 2. Violin plots depicting mean methylation levels"
   ]
  },
  {
   "cell_type": "markdown",
   "id": "3fcbf1e2",
   "metadata": {},
   "source": [
    "## Infection"
   ]
  },
  {
   "cell_type": "code",
   "execution_count": null,
   "id": "1f2cd098",
   "metadata": {},
   "outputs": [],
   "source": [
    "ax = sns.violinplot(data=methylation_data_infection, kde=True)\n",
    "ax.set_ylim(0, 1)\n",
    "plt.ylabel('Mean methylation levels')\n",
    "plt.xlabel('Infection')"
   ]
  },
  {
   "cell_type": "markdown",
   "id": "ab3ee316",
   "metadata": {},
   "source": [
    "## Treatment"
   ]
  },
  {
   "cell_type": "code",
   "execution_count": null,
   "id": "655d821b",
   "metadata": {},
   "outputs": [],
   "source": [
    "ax = sns.violinplot(data=methylation_data_treatment, kde=True)\n",
    "ax.set_ylim(0, 1)\n",
    "plt.ylabel('Mean methylation levels')\n",
    "plt.xlabel('Treatment')"
   ]
  },
  {
   "cell_type": "markdown",
   "id": "ba8ed0ab",
   "metadata": {},
   "source": [
    "## Restoration"
   ]
  },
  {
   "cell_type": "code",
   "execution_count": null,
   "id": "6ab87498",
   "metadata": {},
   "outputs": [],
   "source": [
    "ax = sns.violinplot(data=methylation_data_restoration, kde=True)\n",
    "ax.set_ylim(0, 1)\n",
    "plt.ylabel('Mean methylation levels')\n",
    "plt.xlabel('Restoration')"
   ]
  },
  {
   "cell_type": "markdown",
   "id": "1a7822aa",
   "metadata": {},
   "source": [
    "# 3. Methylation levels of CpG clusters"
   ]
  },
  {
   "cell_type": "markdown",
   "id": "741963d1",
   "metadata": {},
   "source": [
    "Goal: Trying to characterize the two identified CpG clusters. Are they high vs low methylation level groups? Are they large vs small delta methylation level groups post infection/treatment?"
   ]
  },
  {
   "cell_type": "markdown",
   "id": "b383cefe",
   "metadata": {},
   "source": [
    "## Infection"
   ]
  },
  {
   "cell_type": "code",
   "execution_count": null,
   "id": "52427f31",
   "metadata": {},
   "outputs": [],
   "source": [
    "## Complete infection dataframe\n",
    "# Change in methylation levels after infection\n",
    "methylation_data_infection['Δβ-value_HIV+ pre-ART vs. HIV-'] = methylation_data_infection['β-value_HIV+ pre-ART'] \n",
    "                                                                - methylation_data_infection['β-value_HIV-']\n",
    "# Mean methylation levels\n",
    "methylation_data_infection['Mean β-value'] = methylation_data_infection[['β-value_HIV+ pre-ART',\n",
    "                                                                         'β-value_HIV-']].mean(axis=1)\n",
    "# CpG cluster associated with each CpG site\n",
    "methylation_data_infection['CpG_cluster'] = infection_clusters\n",
    "cluster_dict = {1: 'high', 2: 'low'}\n",
    "methylation_data_infection['CpG_cluster'] = methylation_data_infection['CpG_cluster'].map(cluster_dict)\n",
    "\n",
    "methylation_data_infection"
   ]
  },
  {
   "cell_type": "code",
   "execution_count": null,
   "id": "2a13a904",
   "metadata": {},
   "outputs": [],
   "source": [
    "# Separating into two dataframes, one for each DMP cluster\n",
    "methylation_data_infection_high = methylation_data_infection[methylation_data_infection['CpG_cluster'] == 'high']\n",
    "methylation_data_infection_low = methylation_data_infection[methylation_data_infection['CpG_cluster'] == 'low']\n",
    "\n",
    "# Saving to csv\n",
    "methylation_data_infection_high.to_csv('Data/methylation_data_infection_high.csv')\n",
    "methylation_data_infection_low.to_csv('Data/methylation_data_infection_low.csv')"
   ]
  },
  {
   "cell_type": "code",
   "execution_count": null,
   "id": "2482667a",
   "metadata": {},
   "outputs": [],
   "source": [
    "# Violin plot for each of the 2 CpG clusters using the mean β-value\n",
    "ax = sns.violinplot(data=methylation_data_infection, x='CpG_cluster', y='Mean β-value') \n",
    "ax.set_ylim(0, 1)\n",
    "plt.ylabel('Mean methylation levels')\n",
    "plt.xlabel('Infection')"
   ]
  },
  {
   "cell_type": "code",
   "execution_count": null,
   "id": "935245d5",
   "metadata": {},
   "outputs": [],
   "source": [
    "# Mann-Whitney U test\n",
    "# Separate the data into two groups by CpG cluster\n",
    "low = methylation_data_infection[methylation_data_infection['CpG_cluster'] == 'low']['Mean β-value']\n",
    "high = methylation_data_infection[methylation_data_infection['CpG_cluster'] == 'high']['Mean β-value']\n",
    "\n",
    "statistic, p_value = mannwhitneyu(low, high)\n",
    "print('Mann-Whitney U statistic:', statistic)\n",
    "print('p-value:', p_value)"
   ]
  },
  {
   "cell_type": "code",
   "execution_count": null,
   "id": "6e37466f",
   "metadata": {},
   "outputs": [],
   "source": [
    "# Violin plot for each of the 2 CpG clusters using the Δβ-value\n",
    "ax = sns.violinplot(data=methylation_data_infection, x='CpG_cluster', y='Δβ-value_HIV+ pre-ART vs. HIV-') \n",
    "plt.ylabel('Delta methylation levels')\n",
    "plt.xlabel('Infection')"
   ]
  },
  {
   "cell_type": "markdown",
   "id": "abc4e88e",
   "metadata": {},
   "source": [
    "Thus, CpG clusters can broadly be categorized as group (1) high average methylation level and increase in mean methylation vs (2) low methylation level and decrease in mean methylation."
   ]
  },
  {
   "cell_type": "markdown",
   "id": "bcee03fa",
   "metadata": {},
   "source": [
    "## Treatment"
   ]
  },
  {
   "cell_type": "code",
   "execution_count": null,
   "id": "04c6079b",
   "metadata": {},
   "outputs": [],
   "source": [
    "## Complete infection dataframe\n",
    "# Change in methylation levels after infection\n",
    "methylation_data_treatment['Δβ-value_HIV+ pre-ART vs. HIV+ post-ART'] \n",
    "= methylation_data_treatment['β-value_HIV+ pre-ART'] - methylation_data_treatment['β-value_HIV+ post-ART']\n",
    "# Mean methylation levels\n",
    "methylation_data_treatment['Mean β-value'] = methylation_data_treatment[['β-value_HIV+ pre-ART',\n",
    "                                                                         'β-value_HIV+ post-ART']].mean(axis=1)\n",
    "# CpG cluster associated with each CpG site\n",
    "methylation_data_treatment['CpG_cluster'] = treatment_clusters\n",
    "cluster_dict = {1: 'low', 2: 'high'}\n",
    "methylation_data_treatment['CpG_cluster'] = methylation_data_treatment['CpG_cluster'].map(cluster_dict)\n",
    "\n",
    "methylation_data_treatment"
   ]
  },
  {
   "cell_type": "code",
   "execution_count": null,
   "id": "4aa70c56",
   "metadata": {},
   "outputs": [],
   "source": [
    "# Separating into two dataframes each for DMP cluster\n",
    "methylation_data_treatment_high = methylation_data_treatment[methylation_data_treatment['CpG_cluster'] == 'high']\n",
    "methylation_data_treatment_low = methylation_data_treatment[methylation_data_treatment['CpG_cluster'] == 'low']\n",
    "\n",
    "methylation_data_treatment_high.to_csv('Data/methylation_data_treatment_high.csv')\n",
    "methylation_data_treatment_low.to_csv('Data/methylation_data_treatment_low.csv')"
   ]
  },
  {
   "cell_type": "code",
   "execution_count": null,
   "id": "81cf0546",
   "metadata": {},
   "outputs": [],
   "source": [
    "# Violin plot for each of the 2 CpG clusters \n",
    "ax = sns.violinplot(data=methylation_data_treatment, x='CpG_cluster', y='Mean β-value') # Well what is y?\n",
    "ax.set_ylim(0, 1)\n",
    "plt.ylabel('Mean methylation levels')\n",
    "plt.xlabel('Treatment')"
   ]
  },
  {
   "cell_type": "code",
   "execution_count": null,
   "id": "27cf0834",
   "metadata": {},
   "outputs": [],
   "source": [
    "# Mann-Whitney U test\n",
    "# Separate the data into two groups\n",
    "low = methylation_data_treatment[methylation_data_treatment['CpG_cluster'] == 'low']['Mean β-value']\n",
    "high = methylation_data_treatment[methylation_data_treatment['CpG_cluster'] == 'high']['Mean β-value']\n",
    "\n",
    "statistic, p_value = mannwhitneyu(low, high)\n",
    "print('Mann-Whitney U statistic:', statistic)\n",
    "print('p-value:', p_value)"
   ]
  },
  {
   "cell_type": "code",
   "execution_count": null,
   "id": "c39d7e64",
   "metadata": {},
   "outputs": [],
   "source": [
    "# Violin plot for each of the 2 CpG clusters using the Δβ-value\n",
    "ax = sns.violinplot(data=methylation_data_treatment, x='CpG_cluster', y='Δβ-value_HIV+ pre-ART vs. HIV+ post-ART') \n",
    "plt.ylabel('Delta methylation levels')\n",
    "plt.xlabel('Treatment')"
   ]
  },
  {
   "cell_type": "markdown",
   "id": "0bd794bc",
   "metadata": {},
   "source": [
    "Thus, CpG clusters can broadly be categorized as group (1) high average methylation level and decrease in mean methylation vs (2) low methylation level and increase in mean methylation."
   ]
  },
  {
   "cell_type": "code",
   "execution_count": null,
   "id": "1937d2aa",
   "metadata": {},
   "outputs": [],
   "source": []
  }
 ],
 "metadata": {
  "kernelspec": {
   "display_name": "Python 3.10.6 64-bit",
   "language": "python",
   "name": "python3"
  },
  "language_info": {
   "codemirror_mode": {
    "name": "ipython",
    "version": 3
   },
   "file_extension": ".py",
   "mimetype": "text/x-python",
   "name": "python",
   "nbconvert_exporter": "python",
   "pygments_lexer": "ipython3",
   "version": "3.10.6"
  },
  "vscode": {
   "interpreter": {
    "hash": "aee8b7b246df8f9039afb4144a1f6fd8d2ca17a180786b69acc140d282b71a49"
   }
  }
 },
 "nbformat": 4,
 "nbformat_minor": 5
}
