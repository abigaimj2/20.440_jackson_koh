{
 "cells": [
  {
   "cell_type": "code",
   "execution_count": null,
   "metadata": {},
   "outputs": [],
   "source": [
    "import pandas as pd\n",
    "import matplotlib as plt\n",
    "import seaborn as sns\n",
    "import numpy as np\n",
    "from tqdm import tqdm\n",
    "import matplotlib as mpl\n",
    "import matplotlib.pyplot as plt\n",
    "import matplotlib.font_manager as font_manager\n",
    "import pylab\n",
    "import scipy.stats as sp"
   ]
  },
  {
   "cell_type": "markdown",
   "metadata": {},
   "source": [
    "#### Import Data"
   ]
  },
  {
   "cell_type": "code",
   "execution_count": null,
   "metadata": {},
   "outputs": [],
   "source": [
    "# read in all regulatory landmark positions\n",
    "\n",
    "df_DHS = pd.read_csv('Data/dhs_ENCFF503GCK_GRCh38_clean_2.txt', index_col=0) # read in DHS positions as df\n",
    "df_DHS.dropna(inplace=True)\n",
    "df_DHS['RL'] = 'DHS' # label data\n",
    "\n",
    "df_chromhmm = pd.read_csv('Data/chromhmm_epilogos15statehg38_clean.txt', index_col=0) # read in chromhmm data as df\n",
    "df_chromhmm.dropna(inplace=True)\n",
    "df_chromhmm.rename(columns={'final_state':'RL'}, inplace=True)\n",
    "df_chromhmm.drop(columns=['max_val','state'], inplace=True) # drop unnecessary columns\n",
    "\n",
    "df_ctcf = pd.read_csv('Data/ctcf_loci_GRCh38_clean_2.txt',index_col=0) # read in ctcf positions as df\n",
    "df_ctcf.dropna(inplace=True)\n",
    "df_ctcf['RL'] = 'ctcf' # label data\n",
    "chroms = ['1','2','3','4','5','6','7','8','9','10','11','12','13','14','15','16','17','18','19','20','21','22']\n",
    "df_ctcf = df_ctcf[df_ctcf['chr'].isin(chroms)] # select for autosomal chromosomes \n",
    "df_ctcf['chr'] = df_ctcf['chr'].astype(int)\n",
    "\n",
    "df_ctcf_strong = pd.read_csv('Data/ctcf__STRONG_loci_GRCh38_clean_2.csv',index_col=0) # read in STRONG ctcf pos as df (insulation filtered)\n",
    "df_ctcf_strong.dropna(inplace=True)\n",
    "df_ctcf_strong['RL'] = 'ctcf_strong' # label data\n",
    "\n",
    "df_RL = pd.concat([df_DHS, df_chromhmm, df_ctcf, df_ctcf_strong], axis=0) # concatenate all RLs into a single dataframe"
   ]
  },
  {
   "cell_type": "code",
   "execution_count": null,
   "metadata": {},
   "outputs": [],
   "source": [
    "# read in all CpG positions\n",
    "\n",
    "df_CpG_all = pd.read_csv('Data/CpGPositions_FILTERED_hg38_LIFTED.txt', sep='\\t', names = ['CHR','start','end'], index_col=3, header=None)\n",
    "df_CpG_all['Genome_Build'] = 38\n",
    "df_CpG_all['CHR'] = df_CpG_all['CHR'].map(lambda x: x[3:])\n",
    "df_CpG_all['CHR'] = df_CpG_all['CHR'].astype(str)\n",
    "df_CpG_all.drop(['end'], axis=1, inplace=True)\n",
    "df_CpG_all.rename({'start':'MAPINFO'}, axis=1, inplace=True)\n",
    "\n",
    "# save data groups as CSV files (group 1 = infection, group 2 = treatment)\n",
    "df_group1 = pd.read_csv('Data/Group1_pos_LIFTED.csv', index_col=0)\n",
    "df_group2 = pd.read_csv('Data/Group2_pos_LIFTED.csv', index_col=0)"
   ]
  },
  {
   "cell_type": "markdown",
   "metadata": {},
   "source": [
    "#### Function Definition"
   ]
  },
  {
   "cell_type": "code",
   "execution_count": null,
   "metadata": {},
   "outputs": [],
   "source": [
    "# define number of simulations for random sampling\n",
    "num_sims = 10"
   ]
  },
  {
   "cell_type": "code",
   "execution_count": null,
   "metadata": {},
   "outputs": [],
   "source": [
    "### FUNC: DISTANCE_TO_CLOSEST\n",
    "## from a CpG position, calculate distance to closest RL of a particular type\n",
    "# inputs: CpG loci, RL loci\n",
    "\n",
    "def distance_to_closest(cpg_position, RL_position):\n",
    "    dist = np.abs(np.subtract.outer(cpg_position, RL_position)).min(axis=1)\n",
    "    return dist"
   ]
  },
  {
   "cell_type": "code",
   "execution_count": null,
   "metadata": {},
   "outputs": [],
   "source": [
    "### FUNC: OVERLAP_WITH_CLOSEST\n",
    "## calculate the count of how many CpGs fall within their nearest RL\n",
    "# inputs: CpG loci, loci defining boudnaries of RLs\n",
    "\n",
    "def overlap_with_closest(cpg_position, df_RL_chr):\n",
    "    ind = np.abs(np.subtract.outer(cpg_position, np.asarray(df_RL_chr['mid']))).argmin(axis=1)\n",
    "    count = (((cpg_position > df_RL_chr.loc[ind, :][\"start\"]).astype(\"int64\") + (cpg_position < df_RL_chr.loc[ind, :][\"end\"]).astype(\"int64\")) == 2).sum()\n",
    "    return count"
   ]
  },
  {
   "cell_type": "code",
   "execution_count": null,
   "metadata": {},
   "outputs": [],
   "source": [
    "### FUNC: RL_ANALYSIS\n",
    "## for a set of CpG sites and a set of RL positions, perform positional enrichment analysis and compare to random expectation\n",
    "# inputs: experimental CpG loci, RL loci, all CpG loci along genome, number of simulations for random expectation calculations\n",
    "\n",
    "def RL_analysis(df_cpg_exp, df_RL, df_cpg_all, num_sims):\n",
    "    \n",
    "    # create storage location for analysis\n",
    "    results = {}\n",
    "  \n",
    "    for chr_id in range(1,23): # cycle through autosomal chromosomes\n",
    "        overlap_count = 0\n",
    "\n",
    "        # print('Beginning chromosome:',chr_id)\n",
    "\n",
    "        # get CpG pos for this chromosome -- experimental group\n",
    "        df_cpgpos_chr = df_cpg_exp[df_cpg_exp['CHR'] == chr_id]\n",
    "        df_cpgpos_chr.reset_index(inplace=True, drop=True)\n",
    "        num_exp_cpg = df_cpgpos_chr.shape[0]\n",
    "\n",
    "        # get CpG pos for this chromosome -- control group\n",
    "        df_cpgpos_chr_ctrl = df_cpg_all[df_cpg_all['CHR'] == str(chr_id)]\n",
    "        df_cpgpos_chr_ctrl.reset_index(inplace=True, drop=True)\n",
    "\n",
    "        # find RL positions on this chromosome\n",
    "        df_RL_chr = df_RL[df_RL['chr'] == chr_id]\n",
    "        df_RL_chr.reset_index(inplace=True,drop=True)\n",
    "\n",
    "        # random simulation control\n",
    "        store_random = np.zeros([num_exp_cpg, num_sims])\n",
    "        # for j in tqdm(range(num_sims)):\n",
    "        for j in range(num_sims):\n",
    "            df_random = df_cpgpos_chr_ctrl['MAPINFO'].sample(n=num_exp_cpg,axis=0, replace=False).to_numpy()\n",
    "            dist_to_closest_random = distance_to_closest(df_random, np.asarray(df_RL_chr['mid']))\n",
    "            store_random[:,j] = dist_to_closest_random\n",
    "        store_random = store_random.mean(axis=1)\n",
    "\n",
    "        # calculate distances to closest regulatory landmark for each condition \n",
    "        dist_to_closest = distance_to_closest(np.asarray(df_cpgpos_chr['MAPINFO']),np.asarray(df_RL_chr['mid']))\n",
    "\n",
    "        # count how many times CpGs overlap with nearest RL\n",
    "        count = overlap_with_closest(np.asarray(df_cpgpos_chr['MAPINFO']), df_RL_chr)\n",
    "        overlap_count += count\n",
    "            \n",
    "        results[chr_id] = {'random_ctrl': store_random, 'experimental_dist': dist_to_closest, 'overlap': overlap_count} \n",
    "        # print('Done with chromosome:',chr_id)\n",
    "    \n",
    "    return(results)    \n",
    "    "
   ]
  },
  {
   "cell_type": "code",
   "execution_count": null,
   "metadata": {},
   "outputs": [],
   "source": [
    "### FUNC: DECODE\n",
    "## decode results from RL_analysis or similar; print overlap with nearest RL count, and p-values from mannwhitneyU and welches' t tests\n",
    "# input: dictionary of distances as calculated by RL_analysis\n",
    "\n",
    "def decode(distance_dict):\n",
    "    data = []\n",
    "    rand_ctrl = []\n",
    "    overlap_count = []\n",
    "\n",
    "    chr_id = []\n",
    "    count = 1\n",
    "    for key in distance_dict:\n",
    "        curr_dict = distance_dict[key]\n",
    "        data.append(curr_dict['experimental_dist'])\n",
    "        rand_ctrl.append(curr_dict['random_ctrl'])\n",
    "        overlap_count.append(curr_dict['overlap'])\n",
    "\n",
    "        chr_id.append(len(curr_dict['experimental_dist'])*[key])\n",
    "        count += 1\n",
    "\n",
    "    data = np.concatenate(data)/1000 # convert to kb\n",
    "    rand_ctrl = np.concatenate(rand_ctrl)/1000 # convert to kb\n",
    "    chr_id = np.concatenate(chr_id)\n",
    "\n",
    "    df = []\n",
    "    df = pd.DataFrame(columns = ['distance_(kb)','group'])\n",
    "    df['distance_(kb)'] = np.concatenate([data,rand_ctrl])\n",
    "    df['distance_(kb)'] = df['distance_(kb)'] + 1e-3\n",
    "    df['group'] = len(data)*['Experimental Group'] + len(rand_ctrl)*['Randomized Control']\n",
    "\n",
    "    print('Number of CpGs that overlap with nearest regulatory landmark:', sum(overlap_count))\n",
    "    \n",
    "    t, p = sp.mannwhitneyu(x = data, y = rand_ctrl, alternative='two-sided')\n",
    "    print('P-value from two sided mannwhitneyu t-test: {}'.format(p))\n",
    "\n",
    "    t,p = sp.ttest_ind(data, rand_ctrl, alternative='two-sided')\n",
    "    print('P-value from two sided welches t-test: {}'.format(p))\n",
    "\n",
    "\n",
    "    return(df)"
   ]
  },
  {
   "cell_type": "code",
   "execution_count": null,
   "metadata": {},
   "outputs": [],
   "source": [
    "### FUNC: RL_ANALYSIS_COMPARATIVE\n",
    "## perform RL analysis between two CpG distributions, as opposed to RL_ANALYSIS which compares to random expectation\n",
    "# inputs: CpG loci experiment set 1, CpG loci experiment set 2, RL loci\n",
    "\n",
    "def RL_analysis_comparative(df_cpg_exp1, df_cpg_exp2, df_RL):\n",
    "    \n",
    "    # create storage location for analysis\n",
    "    results = {}\n",
    "  \n",
    "    for chr_id in range(1,23): # cycle through autosomal chromosomes\n",
    "        overlap_count1 = 0\n",
    "        overlap_count2 = 0\n",
    "\n",
    "        # print('Beginning chromosome:',chr_id)\n",
    "\n",
    "        # get CpG pos for this chromosome -- experimental group 1\n",
    "        df_cpgpos_chr1 = df_cpg_exp1[df_cpg_exp1['CHR'] == chr_id]\n",
    "        df_cpgpos_chr1.reset_index(inplace=True, drop=True)\n",
    "\n",
    "        # get CpG pos for this chromosome -- experimental group 2\n",
    "        df_cpgpos_chr2 = df_cpg_exp2[df_cpg_exp2['CHR'] == chr_id]\n",
    "        df_cpgpos_chr2.reset_index(inplace=True, drop=True)\n",
    "\n",
    "        # find RL positions on this chromosome\n",
    "        df_RL_chr = df_RL[df_RL['chr'] == chr_id]\n",
    "        df_RL_chr.reset_index(inplace=True,drop=True)\n",
    "\n",
    "        # calculate distances to closest regulatory landmark for each condition \n",
    "        dist_to_closest_1 = distance_to_closest(np.asarray(df_cpgpos_chr1['MAPINFO']),np.asarray(df_RL_chr['mid']))\n",
    "        dist_to_closest_2 = distance_to_closest(np.asarray(df_cpgpos_chr2['MAPINFO']),np.asarray(df_RL_chr['mid']))\n",
    "\n",
    "        # count how many times CpGs overlap with nearest RL\n",
    "        count1 = overlap_with_closest(np.asarray(df_cpgpos_chr1['MAPINFO']), df_RL_chr)\n",
    "        overlap_count1 += count1\n",
    "\n",
    "        count2 = overlap_with_closest(np.asarray(df_cpgpos_chr2['MAPINFO']), df_RL_chr)\n",
    "        overlap_count2 += count2\n",
    "            \n",
    "        results[chr_id] = {'experimental_dist_1': dist_to_closest_1, 'experimental_dist_2': dist_to_closest_2, 'overlap_1': overlap_count1, 'overlap_2': overlap_count2} \n",
    "        # print('Done with chromosome:',chr_id)\n",
    "    \n",
    "    return(results)    \n",
    "    "
   ]
  },
  {
   "cell_type": "code",
   "execution_count": null,
   "metadata": {},
   "outputs": [],
   "source": [
    "### FUNC: DECODE_COMPARATIVE\n",
    "## decode results from RL_analysis_comparative or similar; print overlap with nearest RL count, and p-values from mannwhitneyU and welches' t tests\n",
    "# input: dictionary of distances as calculated by RL_analysis_comparative\n",
    "\n",
    "def decode_comparative(distance_dict):\n",
    "    data_1 = []\n",
    "    data_2 = []\n",
    "    overlap_count_1 = []\n",
    "    overlap_count_2 = []\n",
    "\n",
    "    chr_id = []\n",
    "    count = 1\n",
    "    for key in distance_dict:\n",
    "        curr_dict = distance_dict[key]\n",
    "        data_1.append(curr_dict['experimental_dist_1'])\n",
    "        data_2.append(curr_dict['experimental_dist_2'])\n",
    "        overlap_count_1.append(curr_dict['overlap_1'])\n",
    "        overlap_count_2.append(curr_dict['overlap_2'])\n",
    "\n",
    "        chr_id.append(len(curr_dict['experimental_dist_1'])*[key])\n",
    "        count += 1\n",
    "\n",
    "    data_1 = np.concatenate(data_1)/1000 # convert to kb\n",
    "    data_2 = np.concatenate(data_2)/1000 # convert to kb\n",
    "    # chr_id = np.concatenate(chr_id)\n",
    "\n",
    "    df = []\n",
    "    df = pd.DataFrame(columns = ['distance_(kb)','group'])\n",
    "    df['distance_(kb)'] = np.concatenate([data_1,data_2])\n",
    "    df['distance_(kb)'] = df['distance_(kb)'] + 1e-3\n",
    "    df['group'] = len(data_1)*['Experimental Group 1'] + len(data_2)*['Experimental Group 2']\n",
    "\n",
    "    print('Number of CpGs that overlap with nearest regulatory landmark for FIRST group:', sum(overlap_count_1))\n",
    "    print('Number of CpGs that overlap with nearest regulatory landmark for SECOND group:', sum(overlap_count_2))\n",
    "\n",
    "    \n",
    "    t, p = sp.mannwhitneyu(x = data_1, y = data_2, alternative=\"two-sided\")\n",
    "    print('P-value from two sided mannwhitneyu t-test: {}'.format(p))\n",
    "\n",
    "    t, p = sp.ttest_ind(data_1, data_2, alternative=\"two-sided\")\n",
    "    print('P-value from two sided welches t-test: {}'.format(p))\n",
    "\n",
    "    return(df)"
   ]
  },
  {
   "cell_type": "code",
   "execution_count": null,
   "metadata": {},
   "outputs": [],
   "source": [
    "### FUNC: RL_ANALYSIS_OTHERVIR\n",
    "## perform RL analysis for non-HIV viruses, including HPV and SARS2\n",
    "# inputs: CpG loci, RL loc, CpG loci along entire genome, number of simulations for random expectation generation\n",
    "\n",
    "def RL_analysis_otherVIR(df_cpg_exp, df_RL, df_cpg_all, num_sims):\n",
    "    \n",
    "    # create storage location for analysis\n",
    "    results = {}\n",
    "  \n",
    "    for chr_id in range(1,23): # cycle through autosomal chromosomes\n",
    "        overlap_count = 0\n",
    "\n",
    "        print('Beginning chromosome:',chr_id)\n",
    "\n",
    "        # get CpG pos for this chromosome -- experimental group\n",
    "        df_cpgpos_chr = df_cpg_exp[df_cpg_exp['CHR'] == str(chr_id)]\n",
    "        df_cpgpos_chr.reset_index(inplace=True, drop=True)\n",
    "        num_exp_cpg = df_cpgpos_chr.shape[0]\n",
    "\n",
    "        # get CpG pos for this chromosome -- control group\n",
    "        df_cpgpos_chr_ctrl = df_cpg_all[df_cpg_all['CHR'] == str(chr_id)]\n",
    "        df_cpgpos_chr_ctrl.reset_index(inplace=True, drop=True)\n",
    "\n",
    "        # find RL positions on this chromosome\n",
    "        df_RL_chr = df_RL[df_RL['chr'] == chr_id]\n",
    "        df_RL_chr.reset_index(inplace=True,drop=True)\n",
    "\n",
    "        # random simulation control\n",
    "        store_random = np.zeros([num_exp_cpg, num_sims])\n",
    "        for j in tqdm(range(num_sims)):\n",
    "        # for j in range(num_sims):\n",
    "            df_random = df_cpgpos_chr_ctrl['MAPINFO'].sample(n=num_exp_cpg,axis=0, replace=False).to_numpy()\n",
    "            dist_to_closest_random = distance_to_closest(df_random, np.asarray(df_RL_chr['mid']))\n",
    "            store_random[:,j] = dist_to_closest_random\n",
    "        store_random = store_random.mean(axis=1)\n",
    "\n",
    "        # calculate distances to closest regulatory landmark for each condition \n",
    "        dist_to_closest = distance_to_closest(np.asarray(df_cpgpos_chr['MAPINFO']),np.asarray(df_RL_chr['mid']))\n",
    "\n",
    "        # count how many times CpGs overlap with nearest RL\n",
    "        count = overlap_with_closest(np.asarray(df_cpgpos_chr['MAPINFO']), df_RL_chr)\n",
    "        overlap_count += count\n",
    "            \n",
    "        results[chr_id] = {'random_ctrl': store_random, 'experimental_dist': dist_to_closest, 'overlap': overlap_count} \n",
    "        print('Done with chromosome:',chr_id)\n",
    "    \n",
    "    return(results)    "
   ]
  },
  {
   "cell_type": "code",
   "execution_count": null,
   "metadata": {},
   "outputs": [],
   "source": [
    "### FUNC: RL_ANALYSIS_COMPARATIVE OTHERVIR\n",
    "## perform RL analysis for non-HIV viruses, including HPV and SARS2, comparing two different experimental distributions instead of comparison to random\n",
    "# inputs: CpG loci experimental group1, CpG loci experimental group 2, RL loci\n",
    "\n",
    "def RL_analysis_comparative_otherVIR(df_cpg_exp1, df_cpg_exp2, df_RL):\n",
    "    # create storage location for analysis\n",
    "    results = {}\n",
    "\n",
    "    for chr_id in range(1,23): # cycle through autosomal chromosomes\n",
    "        overlap_count1 = 0\n",
    "        overlap_count2 = 0\n",
    "\n",
    "        # print('Beginning chromosome:',chr_id)\n",
    "\n",
    "        # get CpG pos for this chromosome -- experimental group 1\n",
    "        df_cpgpos_chr1 = df_cpg_exp1[df_cpg_exp1['CHR'] == str(chr_id)]\n",
    "        df_cpgpos_chr1.reset_index(inplace=True, drop=True)\n",
    "\n",
    "        # get CpG pos for this chromosome -- experimental group 2\n",
    "        df_cpgpos_chr2 = df_cpg_exp2[df_cpg_exp2['CHR'] == str(chr_id)]\n",
    "        df_cpgpos_chr2.reset_index(inplace=True, drop=True)\n",
    "\n",
    "        # find RL positions on this chromosome\n",
    "        df_RL_chr = df_RL[df_RL['chr'] == chr_id]\n",
    "        df_RL_chr.reset_index(inplace=True,drop=True)\n",
    "\n",
    "        # calculate distances to closest regulatory landmark for each condition \n",
    "        dist_to_closest_1 = distance_to_closest(np.asarray(df_cpgpos_chr1['MAPINFO']),np.asarray(df_RL_chr['mid']))\n",
    "        dist_to_closest_2 = distance_to_closest(np.asarray(df_cpgpos_chr2['MAPINFO']),np.asarray(df_RL_chr['mid']))\n",
    "\n",
    "        # count how many times CpGs overlap with nearest RL\n",
    "        count1 = overlap_with_closest(np.asarray(df_cpgpos_chr1['MAPINFO']), df_RL_chr)\n",
    "        overlap_count1 += count1\n",
    "\n",
    "        count2 = overlap_with_closest(np.asarray(df_cpgpos_chr2['MAPINFO']), df_RL_chr)\n",
    "        overlap_count2 += count2\n",
    "            \n",
    "        results[chr_id] = {'experimental_dist_1': dist_to_closest_1, 'experimental_dist_2': dist_to_closest_2, 'overlap_1': overlap_count1, 'overlap_2': overlap_count2} \n",
    "        # print('Done with chromosome:',chr_id)\n",
    "    return(results)"
   ]
  },
  {
   "cell_type": "code",
   "execution_count": null,
   "metadata": {},
   "outputs": [],
   "source": [
    "### FUNC: GRAPH_RL\n",
    "## series of functions to graph results for each RL\n",
    "# inputs: dataframes containing reults from RL_analysis or similar \n",
    "\n",
    "def graph_DHS(df_plot):\n",
    "    sns.set_theme(font=\"arial\", font_scale=3.2, style=\"white\")\n",
    "    fig, axes = plt.subplots(2,1, figsize=(11,11), gridspec_kw={'height_ratios': [2,8.5]})\n",
    "    plt.subplots_adjust(hspace = 0.03)\n",
    "    i = sns.histplot(ax=axes[0], data=df_plot, x=\"distance_(kb)\", hue=\"group\", common_norm= True, log_scale=True, legend=False).set(\n",
    "        xlabel=None,\n",
    "        ylabel=None,\n",
    "        xticklabels=[],\n",
    "        yticklabels=[]\n",
    "    )\n",
    "    j = sns.ecdfplot(ax=axes[1],data=df_plot, x=\"distance_(kb)\", hue=\"group\", lw=3, log_scale=True, legend=False).set(\n",
    "        xlabel='Distance to Closest DHS (kb)', \n",
    "        ylabel='Proportion'\n",
    "    )\n",
    "    # sns.move_legend(axes[1], \"upper left\")\n",
    "\n",
    "\n",
    "def graph_enhancer(df_plot):\n",
    "    sns.set_theme(font=\"arial\", font_scale=3.2, style=\"white\")\n",
    "    fig, axes = plt.subplots(2,1, figsize=(11,11), gridspec_kw={'height_ratios': [2,8.5]})\n",
    "    plt.subplots_adjust(hspace = 0.03)\n",
    "    i = sns.histplot(ax=axes[0], data=df_plot, x=\"distance_(kb)\", hue=\"group\", common_norm= True, log_scale=True, legend=False).set(\n",
    "        xlabel=None,\n",
    "        ylabel=None,\n",
    "        xticklabels=[],\n",
    "        yticklabels=[]\n",
    "    )\n",
    "    j = sns.ecdfplot(ax=axes[1],data=df_plot, x=\"distance_(kb)\", hue=\"group\", lw=3, log_scale=True, legend=False).set(\n",
    "        xlabel='Distance to Closest Enhancer (kb)', \n",
    "        ylabel='Proportion'\n",
    "    )\n",
    "    # sns.move_legend(axes[1], \"upper left\")\n",
    "\n",
    "\n",
    "def graph_promoter(df_plot):\n",
    "    sns.set_theme(font=\"arial\", font_scale=3.2, style=\"white\")\n",
    "    fig, axes = plt.subplots(2,1, figsize=(11,11), gridspec_kw={'height_ratios': [2,8.5]})\n",
    "    plt.subplots_adjust(hspace = 0.03)\n",
    "    i = sns.histplot(ax=axes[0], data=df_plot, x=\"distance_(kb)\", hue=\"group\", common_norm= True, log_scale=True, legend=False).set(\n",
    "        xlabel=None,\n",
    "        ylabel=None,\n",
    "        xticklabels=[],\n",
    "        yticklabels=[]\n",
    "    )\n",
    "    j = sns.ecdfplot(ax=axes[1],data=df_plot, x=\"distance_(kb)\", hue=\"group\", lw=3, log_scale=True, legend=False).set(\n",
    "        xlabel='Distance to Closest Promoter (kb)', \n",
    "        ylabel='Proportion'\n",
    "    )\n",
    "    # sns.move_legend(axes[1], \"upper left\")\n",
    "\n",
    "def graph_ctcf_strong(df_plot):\n",
    "    sns.set_theme(font=\"arial\", font_scale=3.2, style=\"white\")\n",
    "    fig, axes = plt.subplots(2,1, figsize=(11,11), gridspec_kw={'height_ratios': [2,8.5]})\n",
    "    plt.subplots_adjust(hspace = 0.03)\n",
    "    i = sns.histplot(ax=axes[0], data=df_plot, x=\"distance_(kb)\", hue=\"group\", common_norm= True, log_scale=True, legend=False).set(\n",
    "        xlabel=None,\n",
    "        ylabel=None,\n",
    "        xticklabels=[],\n",
    "        yticklabels=[]\n",
    "    )\n",
    "    j = sns.ecdfplot(ax=axes[1],data=df_plot, x=\"distance_(kb)\", hue=\"group\", lw=3, log_scale=True, legend=False).set(\n",
    "        xlabel='Distance to Closest Strong CTCFbs (kb)', \n",
    "        ylabel='Proportion'\n",
    "    )\n",
    "    # sns.move_legend(axes[1], \"upper left\")\n"
   ]
  },
  {
   "cell_type": "markdown",
   "metadata": {},
   "source": [
    "#### Figure 2: Initial HIV RL Analysis"
   ]
  },
  {
   "cell_type": "code",
   "execution_count": null,
   "metadata": {},
   "outputs": [],
   "source": [
    "# create empty dfs to store data thoughout analysis \n",
    "\n",
    "df_store_group1 = pd.DataFrame(columns=['CpG_ID','DHS','enhancer','promoter','CTCFbs_strong'])\n",
    "df_store_group1['CpG_ID'] = df_group1['CpG_ID']\n",
    "\n",
    "df_store_group2 = pd.DataFrame(columns=['CpG_ID','DHS','enhancer','promoter','CTCFbs_strong'])\n",
    "df_store_group2['CpG_ID'] = df_group2['CpG_ID']"
   ]
  },
  {
   "cell_type": "markdown",
   "metadata": {},
   "source": [
    "DHS"
   ]
  },
  {
   "cell_type": "code",
   "execution_count": null,
   "metadata": {},
   "outputs": [],
   "source": [
    "# perform RL analysis for INFECTION to DHS\n",
    "\n",
    "group1_DHS = RL_analysis(df_group1,df_DHS,df_CpG_all,num_sims)\n",
    "df_group1_DHS = decode(group1_DHS) \n",
    "graph_DHS(df_group1_DHS)\n",
    "\n",
    "# fill storage DFs for use in overlap analysis\n",
    "df_intermediate = df_group1_DHS[df_group1_DHS['group']==\"Experimental Group\"]\n",
    "df_store_group1['DHS'] = df_intermediate['distance_(kb)']"
   ]
  },
  {
   "cell_type": "code",
   "execution_count": null,
   "metadata": {},
   "outputs": [],
   "source": [
    "# perform RL analysis for TREATMENT to DHS\n",
    "\n",
    "group2_DHS = RL_analysis(df_group2,df_DHS,df_CpG_all,num_sims)\n",
    "df_group2_DHS = decode(group2_DHS)\n",
    "graph_DHS(df_group2_DHS)\n",
    "\n",
    "# fill storage DFs for use in overlap analysis\n",
    "df_intermediate = df_group2_DHS[df_group2_DHS['group']==\"Experimental Group\"]\n",
    "df_store_group2['DHS'] = df_intermediate['distance_(kb)']"
   ]
  },
  {
   "cell_type": "markdown",
   "metadata": {},
   "source": [
    "ENHANCER"
   ]
  },
  {
   "cell_type": "code",
   "execution_count": null,
   "metadata": {},
   "outputs": [],
   "source": [
    "# perform RL analysis for INFECTION to ENHANCER\n",
    "\n",
    "group1_enhancer = RL_analysis(df_group1,df_chromhmm[df_chromhmm['RL'] == 'enhancer'],df_CpG_all,num_sims)\n",
    "df_group1_enhancer = decode(group1_enhancer)\n",
    "graph_enhancer(df_group1_enhancer)\n",
    "\n",
    "# fill storage DFs for use in overlap analysis\n",
    "df_intermediate = df_group1_enhancer[df_group1_enhancer['group']==\"Experimental Group\"]\n",
    "df_store_group1['enhancer'] = df_intermediate['distance_(kb)']"
   ]
  },
  {
   "cell_type": "code",
   "execution_count": null,
   "metadata": {},
   "outputs": [],
   "source": [
    "# perform RL analysis for TREATMENT to ENHANCER\n",
    "\n",
    "group2_enhancer = RL_analysis(df_group2,df_chromhmm[df_chromhmm['RL'] == 'enhancer'],df_CpG_all,num_sims)\n",
    "df_group2_enhancer = decode(group2_enhancer)\n",
    "graph_enhancer(df_group2_enhancer)\n",
    "\n",
    "# fill storage DFs for use in overlap analysis\n",
    "df_intermediate = df_group2_enhancer[df_group2_enhancer['group']==\"Experimental Group\"]\n",
    "df_store_group2['enhancer'] = df_intermediate['distance_(kb)']"
   ]
  },
  {
   "cell_type": "markdown",
   "metadata": {},
   "source": [
    "PROMOTER"
   ]
  },
  {
   "cell_type": "code",
   "execution_count": null,
   "metadata": {},
   "outputs": [],
   "source": [
    "# perform RL analysis for INFECTION to PROMOTER\n",
    "\n",
    "group1_promoter = RL_analysis(df_group1,df_chromhmm[df_chromhmm['RL'] == 'promoter'],df_CpG_all,num_sims)\n",
    "df_group1_promoter = decode(group1_promoter)\n",
    "graph_promoter(df_group1_promoter)\n",
    "\n",
    "# fill storage DFs for use in overlap analysis\n",
    "df_intermediate = df_group1_promoter[df_group1_promoter['group']==\"Experimental Group\"]\n",
    "df_store_group1['promoter'] = df_intermediate['distance_(kb)']"
   ]
  },
  {
   "cell_type": "code",
   "execution_count": null,
   "metadata": {},
   "outputs": [],
   "source": [
    "# perform RL analysis for TREATMENT to PROMOTER\n",
    "\n",
    "group2_promoter = RL_analysis(df_group2,df_chromhmm[df_chromhmm['RL'] == 'promoter'],df_CpG_all,num_sims)\n",
    "df_group2_promoter = decode(group2_promoter)\n",
    "graph_promoter(df_group2_promoter)\n",
    "\n",
    "# fill storage DFs for use in overlap analysis\n",
    "df_intermediate = df_group2_promoter[df_group2_promoter['group']==\"Experimental Group\"]\n",
    "df_store_group2['promoter'] = df_intermediate['distance_(kb)']"
   ]
  },
  {
   "cell_type": "markdown",
   "metadata": {},
   "source": [
    "STRONG CTCFbs"
   ]
  },
  {
   "cell_type": "code",
   "execution_count": null,
   "metadata": {},
   "outputs": [],
   "source": [
    "# perform RL analysis for INFECTON to STRONG CTCFBS\n",
    "\n",
    "group1_ctcf_strong = RL_analysis(df_group1,df_ctcf_strong,df_CpG_all,num_sims)\n",
    "df_group1_ctcf_strong = decode(group1_ctcf_strong)\n",
    "graph_ctcf_strong(df_group1_ctcf_strong)\n",
    "\n",
    "# fill storage DFs for use in overlap analysis\n",
    "df_intermediate = df_group1_ctcf_strong[df_group1_ctcf_strong['group']==\"Experimental Group\"]\n",
    "df_store_group1['CTCFbs_strong'] = df_intermediate['distance_(kb)']"
   ]
  },
  {
   "cell_type": "code",
   "execution_count": null,
   "metadata": {},
   "outputs": [],
   "source": [
    "# perform RL analysis for TREATMENT to STRONG CTCFBS\n",
    "\n",
    "group2_ctcf_strong = RL_analysis(df_group2,df_ctcf_strong,df_CpG_all,num_sims)\n",
    "df_group2_ctcf_strong = decode(group2_ctcf_strong)\n",
    "graph_ctcf_strong(df_group2_ctcf_strong)\n",
    "\n",
    "# fill storage DFs for use in overlap analysis\n",
    "df_intermediate = df_group2_ctcf_strong[df_group2_ctcf_strong['group']==\"Experimental Group\"]\n",
    "df_store_group2['CTCFbs_strong'] = df_intermediate['distance_(kb)']"
   ]
  },
  {
   "cell_type": "code",
   "execution_count": null,
   "metadata": {},
   "outputs": [],
   "source": [
    "# process INFECTION results to get closest RL type to each CpG --> will be used in OVERLAP analysis\n",
    "df_intermediate = df_store_group1.copy()\n",
    "df_intermediate = df_intermediate.drop('CpG_ID',axis=1)\n",
    "df_array = np.array(df_intermediate.values,dtype=float)\n",
    "indices_of_minima = df_array.argmin(axis=1)\n",
    "column_names_min = df_intermediate.columns[indices_of_minima]\n",
    "df_store_group1['closest_RL'] = column_names_min\n",
    "df_store_group1 "
   ]
  },
  {
   "cell_type": "code",
   "execution_count": null,
   "metadata": {},
   "outputs": [],
   "source": [
    "# process TREATMENT results to get closest RL type to each CpG --> will be used in OVERLAP analysis\n",
    "df_intermediate = df_store_group2.copy()\n",
    "df_intermediate = df_intermediate.drop('CpG_ID',axis=1)\n",
    "df_array = np.array(df_intermediate.values,dtype=float)\n",
    "indices_of_minima = df_array.argmin(axis=1)\n",
    "column_names_min = df_intermediate.columns[indices_of_minima]\n",
    "df_store_group2['closest_RL'] = column_names_min\n",
    "df_store_group2"
   ]
  },
  {
   "cell_type": "code",
   "execution_count": null,
   "metadata": {},
   "outputs": [],
   "source": [
    "# store CLOSEST RL data to CSV \n",
    "df_store_group1.to_csv('Data/closest_RL_infection_g1.csv')\n",
    "df_store_group2.to_csv('Data/closest_RL_treatment_g2.csv')"
   ]
  },
  {
   "cell_type": "markdown",
   "metadata": {},
   "source": [
    "##### Figure 2b: How often do CpGs overlap with their nearest RL? "
   ]
  },
  {
   "cell_type": "code",
   "execution_count": null,
   "metadata": {},
   "outputs": [],
   "source": [
    "df_overlap = pd.read_csv('Data/Processed/overlap_data.csv')"
   ]
  },
  {
   "cell_type": "code",
   "execution_count": null,
   "metadata": {},
   "outputs": [],
   "source": [
    "df_overlap = df_overlap.drop(2)"
   ]
  },
  {
   "cell_type": "code",
   "execution_count": null,
   "metadata": {},
   "outputs": [],
   "source": [
    "df_overlap"
   ]
  },
  {
   "cell_type": "code",
   "execution_count": null,
   "metadata": {},
   "outputs": [],
   "source": [
    "df_proportion = pd.DataFrame(columns=['DHS','enhancer','promoter','CTCFbs_strong'])\n",
    "\n",
    "df_proportion['DHS'] = df_overlap['DHS'] / df_overlap['total_count']\n",
    "df_proportion['enhancer'] = df_overlap['enhancer'] / df_overlap['total_count']\n",
    "df_proportion['promoter'] = df_overlap['promoter'] / df_overlap['total_count']\n",
    "df_proportion['CTCFbs_strong'] = df_overlap['CTCFbs_strong'] / df_overlap['total_count']\n",
    "df_proportion['Group'] = ''\n",
    "df_proportion.loc[0,'Group'] = 'Infection'\n",
    "df_proportion.loc[1,'Group'] = 'Treatment'\n",
    "# df_proportion.loc[2,'Group'] = 'Group 3'\n",
    "df_proportion.set_index(df_proportion['Group'],inplace=True)"
   ]
  },
  {
   "cell_type": "code",
   "execution_count": null,
   "metadata": {},
   "outputs": [],
   "source": [
    "# normalize the data for overlap analysis--based on number of RLs of each type that appear along the genome\n",
    "\n",
    "df_proportion_normalized = df_proportion.copy()\n",
    "count_DHS = len(df_DHS)\n",
    "count_enhancer = len(df_chromhmm[df_chromhmm['RL'] == 'enhancer'])\n",
    "count_promoter = len(df_chromhmm[df_chromhmm['RL'] == 'promoter'])\n",
    "count_ctcf_strong = len(df_ctcf_strong)\n",
    "count_sum = count_DHS + count_enhancer + count_promoter + count_ctcf_strong\n",
    "\n",
    "# scale counts based on number of times that RL type apears on the genome\n",
    "df_proportion_normalized['DHS'] = df_proportion_normalized['DHS'] / count_DHS\n",
    "df_proportion_normalized['enhancer'] = df_proportion_normalized['enhancer'] / count_enhancer\n",
    "df_proportion_normalized['promoter'] = df_proportion_normalized['promoter'] / count_promoter\n",
    "df_proportion_normalized['CTCFbs_strong'] = df_proportion_normalized['CTCFbs_strong'] / count_ctcf_strong\n",
    "\n",
    "df_proportion_normalized_initialRL = df_proportion_normalized.copy()\n",
    "df_proportion_normalized_initialRL.to_csv('Data/Processed/Overlap For Esther/overlap_initialRLanalysis_NORMALIZED.csv') # export results"
   ]
  },
  {
   "cell_type": "markdown",
   "metadata": {},
   "source": [
    "#### Figure 4: HIV RL Analysis with clustered DMP groups"
   ]
  },
  {
   "cell_type": "code",
   "execution_count": null,
   "metadata": {},
   "outputs": [],
   "source": [
    "# read in data generated by Esther's clustering strategy\n",
    "\n",
    "cpg_infec_high = pd.read_csv('Data/Processed/infection_cpgs_high.csv', index_col=0)\n",
    "df_infec_high = df_group1[df_group1['CpG_ID'].isin(cpg_infec_high['CpG_ID'])]\n",
    "df_infec_high.reset_index(inplace=True)\n",
    "\n",
    "cpg_infec_low = pd.read_csv('Data/Processed/infection_cpgs_low.csv',index_col=0)\n",
    "cpg_infec_low.rename({'Low':'CpG_ID'},axis=1,inplace=True)\n",
    "df_infec_low = df_group1[df_group1['CpG_ID'].isin(cpg_infec_low['CpG_ID'])]\n",
    "df_infec_low.reset_index(inplace=True)\n",
    "\n",
    "cpg_treat_high = pd.read_csv('Data/Processed/treatment_cpgs_high.csv',index_col=0)\n",
    "df_treat_high = df_group2[df_group2['CpG_ID'].isin(cpg_treat_high['CpG_ID'])]\n",
    "df_treat_high.reset_index(inplace=True)\n",
    "\n",
    "cpg_treat_low = pd.read_csv('Data/Processed/treatment_cpgs_low.csv',index_col=0)\n",
    "cpg_treat_low.rename({'Low':'CpG_ID'},axis=1,inplace=True)\n",
    "df_treat_low = df_group2[df_group2['CpG_ID'].isin(cpg_treat_low['CpG_ID'])]\n",
    "df_treat_low.reset_index(inplace=True)\n"
   ]
  },
  {
   "cell_type": "markdown",
   "metadata": {},
   "source": [
    "DHS"
   ]
  },
  {
   "cell_type": "code",
   "execution_count": null,
   "metadata": {},
   "outputs": [],
   "source": [
    "# perform comparative RL analysis for INFECTION to DHS\n",
    "\n",
    "infection_DHS = RL_analysis_comparative(df_infec_high, df_infec_low, df_DHS)\n",
    "df_infection_DHS = decode_comparative(infection_DHS)\n",
    "\n",
    "for row in range(0,len(df_infection_DHS)): # annotate data based on experimental group\n",
    "    if df_infection_DHS.loc[row,'group'] == 'Experimental Group 1':\n",
    "        df_infection_DHS.loc[row,'group'] = 'Infection, Cluster 2'\n",
    "    elif df_infection_DHS.loc[row,'group'] == 'Experimental Group 2':\n",
    "        df_infection_DHS.loc[row,'group'] = 'Infection, Cluster 1'\n",
    "graph_DHS(df_infection_DHS)"
   ]
  },
  {
   "cell_type": "code",
   "execution_count": null,
   "metadata": {},
   "outputs": [],
   "source": [
    "# perform comparative RL analysis for TREATMENT to DHS\n",
    "\n",
    "treatment_DHS = RL_analysis_comparative(df_treat_high, df_treat_low, df_DHS)\n",
    "df_treatment_DHS = decode_comparative(treatment_DHS)\n",
    "\n",
    "for row in range(0,len(df_treatment_DHS)): # annotate data based on experimental group\n",
    "    if df_treatment_DHS.loc[row,'group'] == 'Experimental Group 1':\n",
    "        df_treatment_DHS.loc[row,'group'] = 'Treatment, Cluster 2'\n",
    "    elif df_treatment_DHS.loc[row,'group'] == 'Experimental Group 2':\n",
    "        df_treatment_DHS.loc[row,'group'] = 'Treatment, Cluster 1'\n",
    "\n",
    "graph_DHS(df_treatment_DHS)"
   ]
  },
  {
   "cell_type": "markdown",
   "metadata": {},
   "source": [
    "Enhancer"
   ]
  },
  {
   "cell_type": "code",
   "execution_count": null,
   "metadata": {},
   "outputs": [],
   "source": [
    "# perform comparative RL analysis for INFECTION to EHNHANCER\n",
    "\n",
    "infection_enhancer = RL_analysis_comparative(df_infec_high, df_infec_low, df_chromhmm[df_chromhmm['RL'] == 'enhancer'])\n",
    "df_infection_enhancer = decode_comparative(infection_enhancer)\n",
    "\n",
    "for row in range(0,len(df_infection_enhancer)): # annotate data based on experimental group\n",
    "    if df_infection_enhancer.loc[row,'group'] == 'Experimental Group 1':\n",
    "        df_infection_enhancer.loc[row,'group'] = 'Infection, Cluster 2'\n",
    "    elif df_infection_enhancer.loc[row,'group'] == 'Experimental Group 2':\n",
    "        df_infection_enhancer.loc[row,'group'] = 'Infection, Cluster 1'\n",
    "graph_enhancer(df_infection_enhancer)"
   ]
  },
  {
   "cell_type": "code",
   "execution_count": null,
   "metadata": {},
   "outputs": [],
   "source": [
    "# perform comparative RL analysis for TREATMENT to ENHANCER\n",
    "\n",
    "treatment_enhancer = RL_analysis_comparative(df_treat_high, df_treat_low, df_chromhmm[df_chromhmm['RL'] == 'enhancer'])\n",
    "df_treatment_enhancer = decode_comparative(treatment_enhancer)\n",
    "\n",
    "for row in range(0,len(df_treatment_enhancer)): # annotate data based on experimental group\n",
    "    if df_treatment_enhancer.loc[row,'group'] == 'Experimental Group 1':\n",
    "        df_treatment_enhancer.loc[row,'group'] = 'Treatment, Cluster 2'\n",
    "    elif df_treatment_enhancer.loc[row,'group'] == 'Experimental Group 2':\n",
    "        df_treatment_enhancer.loc[row,'group'] = 'Treatment, Cluster 1'\n",
    "graph_enhancer(df_treatment_enhancer)"
   ]
  },
  {
   "cell_type": "markdown",
   "metadata": {},
   "source": [
    "Promoter"
   ]
  },
  {
   "cell_type": "code",
   "execution_count": null,
   "metadata": {},
   "outputs": [],
   "source": [
    "# perform comparative RL analysis for INFECTION to PROMOTER\n",
    "\n",
    "infection_promoter = RL_analysis_comparative(df_infec_high, df_infec_low, df_chromhmm[df_chromhmm['RL'] == 'promoter'])\n",
    "df_infection_promoter = decode_comparative(infection_promoter)\n",
    "\n",
    "for row in range(0,len(df_infection_promoter)): # annotate data based on experimental group\n",
    "    if df_infection_promoter.loc[row,'group'] == 'Experimental Group 1':\n",
    "        df_infection_promoter.loc[row,'group'] = 'Infection, Cluster 2'\n",
    "    elif df_infection_promoter.loc[row,'group'] == 'Experimental Group 2':\n",
    "        df_infection_promoter.loc[row,'group'] = 'Infection, Cluster 1'\n",
    "graph_promoter(df_infection_promoter)"
   ]
  },
  {
   "cell_type": "code",
   "execution_count": null,
   "metadata": {},
   "outputs": [],
   "source": [
    "# perform comparative RL analysis for TREATMENT to PROMOTER\n",
    "\n",
    "treatment_promoter = RL_analysis_comparative(df_treat_high, df_treat_low, df_chromhmm[df_chromhmm['RL'] == 'promoter'])\n",
    "df_treatment_promoter = decode_comparative(treatment_promoter)\n",
    "\n",
    "for row in range(0,len(df_treatment_promoter)): # annotate data based on experimental group\n",
    "    if df_treatment_promoter.loc[row,'group'] == 'Experimental Group 1':\n",
    "        df_treatment_promoter.loc[row,'group'] = 'Treatment, Cluster 2'\n",
    "    elif df_treatment_promoter.loc[row,'group'] == 'Experimental Group 2':\n",
    "        df_treatment_promoter.loc[row,'group'] = 'Treatment, Cluster 1'\n",
    "graph_promoter(df_treatment_promoter)"
   ]
  },
  {
   "cell_type": "markdown",
   "metadata": {},
   "source": [
    "CTCFbs_strong"
   ]
  },
  {
   "cell_type": "code",
   "execution_count": null,
   "metadata": {},
   "outputs": [],
   "source": [
    "# perform comparative RL analysis for INFECTION to STRONG CTCFBS\n",
    "\n",
    "infection_ctcf_strong = RL_analysis_comparative(df_infec_high, df_infec_low, df_ctcf_strong)\n",
    "df_infection_ctcf_strong = decode_comparative(infection_ctcf_strong)\n",
    "\n",
    "for row in range(0,len(df_infection_ctcf_strong)): # annotate data based on experimental group\n",
    "    if df_infection_ctcf_strong.loc[row,'group'] == 'Experimental Group 1':\n",
    "        df_infection_ctcf_strong.loc[row,'group'] = 'Infection, Cluster 2'\n",
    "    elif df_infection_ctcf_strong.loc[row,'group'] == 'Experimental Group 2':\n",
    "        df_infection_ctcf_strong.loc[row,'group'] = 'Infection, Cluster 1'\n",
    "graph_ctcf_strong(df_infection_ctcf_strong)"
   ]
  },
  {
   "cell_type": "code",
   "execution_count": null,
   "metadata": {},
   "outputs": [],
   "source": [
    "# perform comparative RL analysis for TREATMENT to STRONG CTCFBS\n",
    "\n",
    "treatment_ctcf_strong = RL_analysis_comparative(df_treat_high, df_treat_low, df_ctcf_strong)\n",
    "df_treatment_ctcf_strong = decode_comparative(treatment_ctcf_strong)\n",
    "\n",
    "for row in range(0,len(df_treatment_ctcf_strong)): # annotate data based on experimental group\n",
    "    if df_treatment_ctcf_strong.loc[row,'group'] == 'Experimental Group 1':\n",
    "        df_treatment_ctcf_strong.loc[row,'group'] = 'Treatment, Cluster 2'\n",
    "    elif df_treatment_ctcf_strong.loc[row,'group'] == 'Experimental Group 2':\n",
    "        df_treatment_ctcf_strong.loc[row,'group'] = 'Treatment, Cluster 1'\n",
    "graph_ctcf_strong(df_treatment_ctcf_strong)"
   ]
  },
  {
   "cell_type": "markdown",
   "metadata": {},
   "source": [
    "##### Figure 4b: How often do CpGs from the clustered DMP groups overlap with their nearest RL?"
   ]
  },
  {
   "cell_type": "code",
   "execution_count": null,
   "metadata": {},
   "outputs": [],
   "source": [
    "df_overlap = pd.read_csv('Data/Processed/overlap_data_highlowclusters.csv')"
   ]
  },
  {
   "cell_type": "code",
   "execution_count": null,
   "metadata": {},
   "outputs": [],
   "source": [
    "df_proportion = pd.DataFrame(columns=['DHS','enhancer','promoter','CTCFbs_strong'])\n",
    "\n",
    "df_proportion['DHS'] = df_overlap['DHS'] / df_overlap['total_count']\n",
    "df_proportion['enhancer'] = df_overlap['enhancer'] / df_overlap['total_count']\n",
    "df_proportion['promoter'] = df_overlap['promoter'] / df_overlap['total_count']\n",
    "df_proportion['CTCFbs_strong'] = df_overlap['CTCFbs_strong'] / df_overlap['total_count']\n",
    "df_proportion['Group'] = ''\n",
    "df_proportion.loc[0,'Group'] = 'Infection High'\n",
    "df_proportion.loc[1,'Group'] = 'Infection Low'\n",
    "df_proportion.loc[2,'Group'] = 'Treatment High'\n",
    "df_proportion.loc[3,'Group'] = 'Treatment Low'\n",
    "df_proportion.set_index(df_proportion['Group'])"
   ]
  },
  {
   "cell_type": "code",
   "execution_count": null,
   "metadata": {},
   "outputs": [],
   "source": [
    "# normalize the data\n",
    "\n",
    "df_proportion_normalized = df_proportion.copy()\n",
    "count_DHS = len(df_DHS)\n",
    "count_enhancer = len(df_chromhmm[df_chromhmm['RL'] == 'enhancer'])\n",
    "count_promoter = len(df_chromhmm[df_chromhmm['RL'] == 'promoter'])\n",
    "count_ctcf_strong = len(df_ctcf_strong)\n",
    "count_sum = count_DHS + count_enhancer + count_promoter + count_ctcf_strong\n",
    "\n",
    "scale_DHS = count_DHS/count_sum\n",
    "scale_enhancer = count_enhancer/count_sum\n",
    "scale_promoter= count_promoter/count_sum\n",
    "scale_ctcf_strong = count_ctcf_strong/count_sum\n",
    "\n",
    "# df_proportion_normalized['DHS'] = df_proportion_normalized['DHS'] * scale_DHS\n",
    "# df_proportion_normalized['enhancer'] = df_proportion_normalized['enhancer'] * scale_enhancer\n",
    "# df_proportion_normalized['promoter'] = df_proportion_normalized['promoter'] * scale_promoter\n",
    "# df_proportion_normalized['CTCFbs_strong'] = df_proportion_normalized['CTCFbs_strong'] * scale_ctcf_strong\n",
    "\n",
    "df_proportion_normalized['DHS'] = df_proportion_normalized['DHS'] / count_DHS\n",
    "df_proportion_normalized['enhancer'] = df_proportion_normalized['enhancer'] / count_enhancer\n",
    "df_proportion_normalized['promoter'] = df_proportion_normalized['promoter'] / count_promoter\n",
    "df_proportion_normalized['CTCFbs_strong'] = df_proportion_normalized['CTCFbs_strong'] / count_ctcf_strong\n",
    "# df_proportion_normalized['count'] = df_proportion_normalized['count'] \n",
    "\n",
    "# df_proportion_normalized['sum'] = df_proportion_normalized['DHS'] + df_proportion_normalized['enhancer'] + df_proportion_normalized['promoter'] + df_proportion_normalized['CTCFbs_strong']"
   ]
  },
  {
   "cell_type": "code",
   "execution_count": null,
   "metadata": {},
   "outputs": [],
   "source": [
    "df_ttest"
   ]
  },
  {
   "cell_type": "code",
   "execution_count": null,
   "metadata": {},
   "outputs": [],
   "source": [
    "df_ttest = df_proportion.copy()\n",
    "df_ttest.set_index(df_ttest['Group'],inplace=True)\n",
    "\n",
    "t, p = sp.mannwhitneyu(x = df_proportion['promoter'], y = df_ttest.loc['Treatment','promoter'], alternative=\"two-sided\")\n",
    "print('P-value from two sided mannwhitneyu t-test: {}'.format(p))"
   ]
  },
  {
   "cell_type": "code",
   "execution_count": null,
   "metadata": {},
   "outputs": [],
   "source": [
    "# https://stackoverflow.com/questions/51882279/seaborn-barplot-with-two-y-axis\n",
    "\n",
    "columns = ['DHS','enhancer','promoter','CTCFbs_strong','Group']\n",
    "data_melted = pd.melt(df_proportion, id_vars=columns[4], var_name = 'RL', value_name = 'values')\n",
    "\n",
    "sns.set_theme(font=\"arial\", font_scale=2, style=\"white\")\n",
    "plt.figure(figsize=(24,20))\n",
    "sns.barplot(data=data_melted, x=columns[4],y = 'values', hue = 'RL').set(\n",
    "    xlabel = 'Group',\n",
    "    ylabel = 'Proportion'\n",
    ")"
   ]
  },
  {
   "cell_type": "code",
   "execution_count": null,
   "metadata": {},
   "outputs": [],
   "source": [
    "# https://stackoverflow.com/questions/51882279/seaborn-barplot-with-two-y-axis\n",
    "\n",
    "columns = ['DHS','enhancer','promoter','CTCFbs_strong','Group']\n",
    "data_melted = pd.melt(df_proportion_normalized, id_vars=columns[4], var_name = 'RL', value_name = 'values')\n",
    "\n",
    "sns.set_theme(font=\"arial\", font_scale=2, style=\"white\")\n",
    "plt.figure(figsize=(24,20))\n",
    "sns.barplot(data=data_melted, x=columns[4],y = 'values', hue = 'RL').set(\n",
    "    xlabel = 'Group',\n",
    "    ylabel = 'Proportion'\n",
    ")"
   ]
  },
  {
   "cell_type": "markdown",
   "metadata": {},
   "source": [
    "#### Figure 6: Initial HPV RL Analysis"
   ]
  },
  {
   "cell_type": "code",
   "execution_count": null,
   "metadata": {},
   "outputs": [],
   "source": [
    "df_hpv = pd.read_csv('Data/HPV_loci.csv', index_col=0) # read in HPV methylation data as df\n",
    "# remove non-autosomal chromosomes or samples with non-canonical notation\n",
    "df_hpv = df_hpv[df_hpv['CHR'] != 'X']\n",
    "df_hpv = df_hpv[df_hpv['CHR'] != 'Y']\n",
    "df_hpv = df_hpv[df_hpv['CHR'] != '22_KI270879v1_alt']\n",
    "df_hpv = df_hpv[df_hpv['CHR'] != '19_KI270938v1_alt']"
   ]
  },
  {
   "cell_type": "code",
   "execution_count": null,
   "metadata": {},
   "outputs": [],
   "source": [
    "# perform HPV infection DHS analysis \n",
    "\n",
    "hpv_DHS = RL_analysis_otherVIR(df_hpv,df_DHS,df_CpG_all,num_sims)\n",
    "df_hpv_DHS = decode(hpv_DHS)\n",
    "graph_DHS(df_hpv_DHS)"
   ]
  },
  {
   "cell_type": "code",
   "execution_count": null,
   "metadata": {},
   "outputs": [],
   "source": [
    "# perform HPV infection ENHANCER analysis \n",
    "\n",
    "hpv_enhancer = RL_analysis_otherVIR(df_hpv,df_chromhmm[df_chromhmm['RL'] == 'enhancer'],df_CpG_all,num_sims)\n",
    "df_hpv_enhancer = decode(hpv_enhancer)\n",
    "graph_enhancer(df_hpv_enhancer)"
   ]
  },
  {
   "cell_type": "code",
   "execution_count": null,
   "metadata": {},
   "outputs": [],
   "source": [
    "# perform HPV infection PROMOTER analysis \n",
    "\n",
    "hpv_promoter = RL_analysis_otherVIR(df_hpv,df_chromhmm[df_chromhmm['RL'] == 'promoter'],df_CpG_all,num_sims)\n",
    "df_hpv_promoter = decode(hpv_promoter)\n",
    "graph_promoter(df_hpv_promoter)"
   ]
  },
  {
   "cell_type": "code",
   "execution_count": null,
   "metadata": {},
   "outputs": [],
   "source": [
    "# perform HPV infection STRONG CTCFBS analysis \n",
    "\n",
    "hpv_ctcf_strong = RL_analysis_otherVIR(df_hpv,df_ctcf_strong,df_CpG_all,num_sims)\n",
    "df_hpv_ctcf_strong = decode(hpv_ctcf_strong)\n",
    "graph_ctcf_strong(df_hpv_ctcf_strong)"
   ]
  },
  {
   "cell_type": "code",
   "execution_count": null,
   "metadata": {},
   "outputs": [],
   "source": [
    "# initialize df to store all HPV data for overlap analysis\n",
    "\n",
    "df_store_HPV = pd.DataFrame(columns=['CpG_ID','DHS','enhancer','promoter','CTCFbs_strong'])\n",
    "df_store_HPV['CpG_ID'] = df_hpv['CpG_ID']\n",
    "df_store_HPV.reset_index(inplace=True)\n",
    "df_store_HPV.drop(columns=['index'], inplace=True)"
   ]
  },
  {
   "cell_type": "code",
   "execution_count": null,
   "metadata": {},
   "outputs": [],
   "source": [
    "# fill empty df with calculated data for overlap analysis \n",
    "\n",
    "df_intermediate = df_hpv_DHS[df_hpv_DHS['group']==\"Experimental Group\"]\n",
    "df_store_HPV['DHS'] = df_intermediate['distance_(kb)']\n",
    "\n",
    "df_intermediate = df_hpv_enhancer[df_hpv_enhancer['group']==\"Experimental Group\"]\n",
    "df_store_HPV['enhancer'] = df_intermediate['distance_(kb)']\n",
    "\n",
    "df_intermediate = df_hpv_promoter[df_hpv_promoter['group']==\"Experimental Group\"]\n",
    "df_store_HPV['promoter'] = df_intermediate['distance_(kb)']\n",
    "\n",
    "df_intermediate = df_hpv_ctcf_strong[df_hpv_ctcf_strong['group']==\"Experimental Group\"]\n",
    "df_store_HPV['CTCFbs_strong'] = df_intermediate['distance_(kb)']"
   ]
  },
  {
   "cell_type": "code",
   "execution_count": null,
   "metadata": {},
   "outputs": [],
   "source": [
    "# calculate and store closest RL and export data as csv\n",
    "\n",
    "df_intermediate = df_store_HPV.copy()\n",
    "df_intermediate = df_intermediate.drop('CpG_ID',axis=1)\n",
    "df_array = np.array(df_intermediate.values,dtype=float)\n",
    "indices_of_minima = df_array.argmin(axis=1)\n",
    "column_names_min = df_intermediate.columns[indices_of_minima]\n",
    "df_store_HPV['closest_RL'] = column_names_min\n",
    "df_store_HPV.to_csv('Data/Processed/HPV_CpGs_closestRL.csv')"
   ]
  },
  {
   "cell_type": "markdown",
   "metadata": {},
   "source": [
    "##### Figure 6b: How often do HPV differentially methylated CpGs overlap with their nearest RL?"
   ]
  },
  {
   "cell_type": "code",
   "execution_count": null,
   "metadata": {},
   "outputs": [],
   "source": [
    "df_overlap_hpv = pd.read_csv('Data/Processed/overlap_hpv.csv') # read in overlap data HPV"
   ]
  },
  {
   "cell_type": "code",
   "execution_count": null,
   "metadata": {},
   "outputs": [],
   "source": [
    "# calculate proportion of HPV DMPs that fall within nearest RL of each type\n",
    "\n",
    "df_proportion = pd.DataFrame(columns=['DHS','enhancer','promoter','CTCFbs_strong'])\n",
    "\n",
    "df_proportion['DHS'] = df_overlap_hpv['DHS'] / df_overlap_hpv['total_count']\n",
    "df_proportion['enhancer'] = df_overlap_hpv['enhancer'] / df_overlap_hpv['total_count']\n",
    "df_proportion['promoter'] = df_overlap_hpv['promoter'] / df_overlap_hpv['total_count']\n",
    "df_proportion['CTCFbs_strong'] = df_overlap_hpv['CTCFbs_strong'] / df_overlap_hpv['total_count']\n",
    "df_proportion['Group'] = ''\n",
    "df_proportion.loc[0,'Group'] = 'HPV'\n",
    "df_proportion.set_index(df_proportion['Group'])"
   ]
  },
  {
   "cell_type": "code",
   "execution_count": null,
   "metadata": {},
   "outputs": [],
   "source": [
    "# normalize the data based on frequency of RL occurance along the genome\n",
    "\n",
    "df_proportion_normalized = df_proportion.copy()\n",
    "count_DHS = len(df_DHS)\n",
    "count_enhancer = len(df_chromhmm[df_chromhmm['RL'] == 'enhancer'])\n",
    "count_promoter = len(df_chromhmm[df_chromhmm['RL'] == 'promoter'])\n",
    "count_ctcf_strong = len(df_ctcf_strong)\n",
    "count_sum = count_DHS + count_enhancer + count_promoter + count_ctcf_strong\n",
    "\n",
    "scale_DHS = count_DHS/count_sum\n",
    "scale_enhancer = count_enhancer/count_sum\n",
    "scale_promoter= count_promoter/count_sum\n",
    "scale_ctcf_strong = count_ctcf_strong/count_sum\n",
    "\n",
    "df_proportion_normalized['DHS'] = df_proportion_normalized['DHS'] / count_DHS\n",
    "df_proportion_normalized['enhancer'] = df_proportion_normalized['enhancer'] / count_enhancer\n",
    "df_proportion_normalized['promoter'] = df_proportion_normalized['promoter'] / count_promoter\n",
    "df_proportion_normalized['CTCFbs_strong'] = df_proportion_normalized['CTCFbs_strong'] / count_ctcf_strong\n",
    "\n",
    "df_proportion_normalized_HPV = df_proportion_normalized.copy()\n",
    "df_proportion_normalized_HPV.to_csv('Data/Processed/Overlap For Esther/overlap_HPV_NORMALIZED.csv') # export for graphing in prism"
   ]
  },
  {
   "cell_type": "markdown",
   "metadata": {},
   "source": [
    "##### Figure 6d: HPV RL analysis with clustered groups of DMPs"
   ]
  },
  {
   "cell_type": "code",
   "execution_count": null,
   "metadata": {},
   "outputs": [],
   "source": [
    "# read in clustered HPV positions from Esther's clustering analysis\n",
    "\n",
    "HPV_high = pd.read_csv('Data/Processed/hpv_cpgs_high.csv',index_col=0, dtype=str)\n",
    "df_HPV_high = df_hpv[df_hpv['CpG_ID'].isin(HPV_high['CpG_ID'])]\n",
    "df_HPV_high.reset_index(inplace=True)\n",
    "\n",
    "HPV_low = pd.read_csv('Data/Processed/hpv_cpgs_low.csv',index_col=0)\n",
    "df_HPV_low = df_hpv[df_hpv['CpG_ID'].isin(HPV_low['CpG_ID'])]\n",
    "df_HPV_low.reset_index(inplace=True)"
   ]
  },
  {
   "cell_type": "code",
   "execution_count": null,
   "metadata": {},
   "outputs": [],
   "source": [
    "# perform RL analysis for HPV clusters vs DHS\n",
    "\n",
    "hpv_cluster_DHS = RL_analysis_comparative_otherVIR(df_HPV_high, df_HPV_low, df_DHS)\n",
    "df_hpv_cluster_DHS = decode_comparative(hpv_cluster_DHS)\n",
    "for row in range(0,len(df_hpv_cluster_DHS)):\n",
    "    if df_hpv_cluster_DHS.loc[row,'group'] == 'Experimental Group 1':\n",
    "        df_hpv_cluster_DHS.loc[row,'group'] = 'HPV, Cluster 2'\n",
    "    elif df_hpv_cluster_DHS.loc[row,'group'] == 'Experimental Group 2':\n",
    "        df_hpv_cluster_DHS.loc[row,'group'] = 'HPV, Cluster 1'\n",
    "graph_DHS(df_hpv_cluster_DHS)"
   ]
  },
  {
   "cell_type": "code",
   "execution_count": null,
   "metadata": {},
   "outputs": [],
   "source": [
    "# perform RL analysis for HPV clusters vs ENHANCER\n",
    "\n",
    "hpv_cluster_enhancer = RL_analysis_comparative_otherVIR(df_HPV_high, df_HPV_low, df_chromhmm[df_chromhmm['RL'] == 'enhancer'])\n",
    "df_hpv_cluster_enhancer = decode_comparative(hpv_cluster_enhancer)\n",
    "for row in range(0,len(df_hpv_cluster_enhancer)):\n",
    "    if df_hpv_cluster_enhancer.loc[row,'group'] == 'Experimental Group 1':\n",
    "        df_hpv_cluster_enhancer.loc[row,'group'] = 'HPV, Cluster 2'\n",
    "    elif df_hpv_cluster_enhancer.loc[row,'group'] == 'Experimental Group 2':\n",
    "        df_hpv_cluster_enhancer.loc[row,'group'] = 'HPV, Cluster 1'\n",
    "graph_enhancer(df_hpv_cluster_enhancer)"
   ]
  },
  {
   "cell_type": "code",
   "execution_count": null,
   "metadata": {},
   "outputs": [],
   "source": [
    "# perform RL analysis for HPV clusters vs PROMOTER\n",
    "\n",
    "hpv_cluster_promoter = RL_analysis_comparative_otherVIR(df_HPV_high, df_HPV_low, df_chromhmm[df_chromhmm['RL'] == 'promoter'])\n",
    "df_hpv_cluster_promoter = decode_comparative(hpv_cluster_promoter)\n",
    "for row in range(0,len(df_hpv_cluster_promoter)):\n",
    "    if df_hpv_cluster_promoter.loc[row,'group'] == 'Experimental Group 1':\n",
    "        df_hpv_cluster_promoter.loc[row,'group'] = 'HPV, Cluster 2'\n",
    "    elif df_hpv_cluster_promoter.loc[row,'group'] == 'Experimental Group 2':\n",
    "        df_hpv_cluster_promoter.loc[row,'group'] = 'HPV, Cluster 1'\n",
    "graph_promoter(df_hpv_cluster_promoter)"
   ]
  },
  {
   "cell_type": "code",
   "execution_count": null,
   "metadata": {},
   "outputs": [],
   "source": [
    "# perform RL analysis for HPV clusters vs STRONG CTCFBS\n",
    "\n",
    "hpv_cluster_ctcf_strong = RL_analysis_comparative_otherVIR(df_HPV_high, df_HPV_low, df_ctcf_strong)\n",
    "df_hpv_cluster_ctcf_strong = decode_comparative(hpv_cluster_ctcf_strong)\n",
    "for row in range(0,len(df_hpv_cluster_ctcf_strong)):\n",
    "    if df_hpv_cluster_ctcf_strong.loc[row,'group'] == 'Experimental Group 1':\n",
    "        df_hpv_cluster_ctcf_strong.loc[row,'group'] = 'HPV, Cluster 2'\n",
    "    elif df_hpv_cluster_ctcf_strong.loc[row,'group'] == 'Experimental Group 2':\n",
    "        df_hpv_cluster_ctcf_strong.loc[row,'group'] = 'HPV, Cluster 1'\n",
    "graph_ctcf_strong(df_hpv_cluster_ctcf_strong)"
   ]
  },
  {
   "cell_type": "markdown",
   "metadata": {},
   "source": [
    "#### Figure 7: Initial SARS2 RL Analysis"
   ]
  },
  {
   "cell_type": "code",
   "execution_count": null,
   "metadata": {},
   "outputs": [],
   "source": [
    "df_sars2 = pd.read_csv('Data/SARS2_loci.csv', index_col=0) # read in HPV methylation data as df\n",
    "\n",
    "# remove non-autosomal chromosomes\n",
    "df_sars2 = df_sars2[df_sars2['CHR'] != 'X']\n",
    "df_sars2 = df_sars2[df_sars2['CHR'] != 'Y']"
   ]
  },
  {
   "cell_type": "code",
   "execution_count": null,
   "metadata": {},
   "outputs": [],
   "source": [
    "# perform SARS2 infection DHS RL analysis \n",
    "\n",
    "sars2_DHS = RL_analysis_otherVIR(df_sars2,df_DHS,df_CpG_all,num_sims)\n",
    "df_sars2_DHS = decode(sars2_DHS)\n",
    "graph_DHS(df_sars2_DHS)"
   ]
  },
  {
   "cell_type": "code",
   "execution_count": null,
   "metadata": {},
   "outputs": [],
   "source": [
    "# perform SARS2 infection ENHANCER RL analysis \n",
    "\n",
    "sars2_enhancer = RL_analysis_otherVIR(df_sars2,df_chromhmm[df_chromhmm['RL'] == 'enhancer'],df_CpG_all,num_sims)\n",
    "df_sars2_enhancer = decode(sars2_enhancer)\n",
    "graph_enhancer(df_sars2_enhancer)"
   ]
  },
  {
   "cell_type": "code",
   "execution_count": null,
   "metadata": {},
   "outputs": [],
   "source": [
    "# perform SARS2 infection PROMOTER RL analysis \n",
    "\n",
    "sars2_promoter = RL_analysis_otherVIR(df_sars2,df_chromhmm[df_chromhmm['RL'] == 'promoter'],df_CpG_all,num_sims)\n",
    "df_sars2_promoter = decode(sars2_promoter)\n",
    "graph_promoter(df_sars2_promoter)"
   ]
  },
  {
   "cell_type": "code",
   "execution_count": null,
   "metadata": {},
   "outputs": [],
   "source": [
    "# perform SARS2 infection STRONG CTCFBS RL analysis \n",
    "\n",
    "sars2_ctcf_strong = RL_analysis_otherVIR(df_sars2,df_ctcf_strong,df_CpG_all,num_sims)\n",
    "df_sars2_ctcf_strong = decode(sars2_ctcf_strong)\n",
    "graph_ctcf_strong(df_sars2_ctcf_strong)"
   ]
  },
  {
   "cell_type": "code",
   "execution_count": null,
   "metadata": {},
   "outputs": [],
   "source": [
    "# create empty df to store SARS2 analysis\n",
    "\n",
    "df_store_SARS2 = pd.DataFrame(columns=['CpG_ID','DHS','enhancer','promoter','CTCFbs_strong'])\n",
    "df_store_SARS2['CpG_ID'] = df_sars2['CpG_ID']\n",
    "df_store_SARS2.reset_index(inplace=True)\n",
    "df_store_SARS2.drop(columns=['index'], inplace=True)"
   ]
  },
  {
   "cell_type": "code",
   "execution_count": null,
   "metadata": {},
   "outputs": [],
   "source": [
    "# fill empty df with SARS2 data with the end goal of performing overlap analysis\n",
    "\n",
    "df_intermediate = df_sars2_DHS[df_sars2_DHS['group']==\"Experimental Group\"]\n",
    "df_store_SARS2['DHS'] = df_intermediate['distance_(kb)']\n",
    "\n",
    "df_intermediate = df_sars2_enhancer[df_sars2_enhancer['group']==\"Experimental Group\"]\n",
    "df_store_SARS2['enhancer'] = df_intermediate['distance_(kb)']\n",
    "\n",
    "df_intermediate = df_sars2_promoter[df_sars2_promoter['group']==\"Experimental Group\"]\n",
    "df_store_SARS2['promoter'] = df_intermediate['distance_(kb)']\n",
    "\n",
    "df_intermediate = df_sars2_ctcf_strong[df_sars2_ctcf_strong['group']==\"Experimental Group\"]\n",
    "df_store_SARS2['CTCFbs_strong'] = df_intermediate['distance_(kb)']"
   ]
  },
  {
   "cell_type": "code",
   "execution_count": null,
   "metadata": {},
   "outputs": [],
   "source": [
    "# calculate closest RL type to each CpG site for SARS2; export data\n",
    "\n",
    "df_intermediate = df_store_SARS2.copy()\n",
    "df_intermediate = df_intermediate.drop('CpG_ID',axis=1)\n",
    "df_array = np.array(df_intermediate.values,dtype=float)\n",
    "indices_of_minima = df_array.argmin(axis=1)\n",
    "column_names_min = df_intermediate.columns[indices_of_minima]\n",
    "df_store_SARS2['closest_RL'] = column_names_min\n",
    "df_store_SARS2.to_csv('Data/Processed/SARS2_CpGs_closestRL.csv')"
   ]
  },
  {
   "cell_type": "markdown",
   "metadata": {},
   "source": [
    "##### Figure 7b: How often do differentially methylated CpGs from SARS2 infection overlap with their nearest RL?"
   ]
  },
  {
   "cell_type": "code",
   "execution_count": null,
   "metadata": {},
   "outputs": [],
   "source": [
    "df_overlap_sars2 = pd.read_csv('Data/Processed/overlap_data_sars2.csv') # read in overlap data "
   ]
  },
  {
   "cell_type": "code",
   "execution_count": null,
   "metadata": {},
   "outputs": [],
   "source": [
    "# calculate proportion of CpG sites that overlap with each type of RL \n",
    "\n",
    "df_proportion = pd.DataFrame(columns=['DHS','enhancer','promoter','CTCFbs_strong'])\n",
    "\n",
    "df_proportion['DHS'] = df_overlap_sars2['DHS'] / df_overlap_sars2['total_count']\n",
    "df_proportion['enhancer'] = df_overlap_sars2['enhancer'] / df_overlap_sars2['total_count']\n",
    "df_proportion['promoter'] = df_overlap_sars2['promoter'] / df_overlap_sars2['total_count']\n",
    "df_proportion['CTCFbs_strong'] = df_overlap_sars2['CTCFbs_strong'] / df_overlap_sars2['total_count']\n",
    "df_proportion['Group'] = ''\n",
    "df_proportion.loc[0,'Group'] = 'SARS2'\n",
    "df_proportion.set_index(df_proportion['Group'])"
   ]
  },
  {
   "cell_type": "code",
   "execution_count": null,
   "metadata": {},
   "outputs": [],
   "source": [
    "# normalize the propotion data based on frequency with which different RL classes appear on the genome\n",
    "\n",
    "df_proportion_normalized = df_proportion.copy()\n",
    "count_DHS = len(df_DHS)\n",
    "count_enhancer = len(df_chromhmm[df_chromhmm['RL'] == 'enhancer'])\n",
    "count_promoter = len(df_chromhmm[df_chromhmm['RL'] == 'promoter'])\n",
    "count_ctcf_strong = len(df_ctcf_strong)\n",
    "count_sum = count_DHS + count_enhancer + count_promoter + count_ctcf_strong\n",
    "\n",
    "scale_DHS = count_DHS/count_sum\n",
    "scale_enhancer = count_enhancer/count_sum\n",
    "scale_promoter= count_promoter/count_sum\n",
    "scale_ctcf_strong = count_ctcf_strong/count_sum\n",
    "\n",
    "df_proportion_normalized['DHS'] = df_proportion_normalized['DHS'] / count_DHS\n",
    "df_proportion_normalized['enhancer'] = df_proportion_normalized['enhancer'] / count_enhancer\n",
    "df_proportion_normalized['promoter'] = df_proportion_normalized['promoter'] / count_promoter\n",
    "df_proportion_normalized['CTCFbs_strong'] = df_proportion_normalized['CTCFbs_strong'] / count_ctcf_strong\n",
    "\n",
    "df_proportion_normalized_SARS2 = df_proportion_normalized.copy()\n",
    "df_proportion_normalized_SARS2.to_csv('Data/Processed/Overlap For Esther/overlap_sars2_NORMALIZED.csv') # export for graphing in prism"
   ]
  },
  {
   "cell_type": "markdown",
   "metadata": {},
   "source": [
    "##### Figure 7d: RL Analysis with SARS2 DMP clustered groups"
   ]
  },
  {
   "cell_type": "code",
   "execution_count": null,
   "metadata": {},
   "outputs": [],
   "source": [
    "# read in SARS2 cluster positions from Esther's clusering analysis\n",
    "\n",
    "SARS2_high = pd.read_csv('Data/Processed/sars_cpgs_high.csv',index_col=0, dtype=str)\n",
    "df_SARS2_high = df_sars2[df_sars2['CpG_ID'].isin(SARS2_high['CpG_ID'])]\n",
    "df_SARS2_high.reset_index(inplace=True)\n",
    "\n",
    "SARS2_low = pd.read_csv('Data/Processed/sars_cpgs_low.csv',index_col=0, dtype=str)\n",
    "df_SARS2_low = df_sars2[df_sars2['CpG_ID'].isin(SARS2_low['CpG_ID'])]\n",
    "df_SARS2_low.reset_index(inplace=True)"
   ]
  },
  {
   "cell_type": "code",
   "execution_count": null,
   "metadata": {},
   "outputs": [],
   "source": [
    "# perform RL analysis for SARS2 clusters vs DHS\n",
    "\n",
    "sars2_cluster_DHS = RL_analysis_comparative_otherVIR(df_SARS2_high, df_SARS2_low, df_DHS)\n",
    "df_sars2_cluster_DHS = decode_comparative(sars2_cluster_DHS)\n",
    "for row in range(0,len(df_sars2_cluster_DHS)):\n",
    "    if df_sars2_cluster_DHS.loc[row,'group'] == 'Experimental Group 1':\n",
    "        df_sars2_cluster_DHS.loc[row,'group'] = 'SARS2, Cluster 2'\n",
    "    elif df_sars2_cluster_DHS.loc[row,'group'] == 'Experimental Group 2':\n",
    "        df_sars2_cluster_DHS.loc[row,'group'] = 'SARS2, Cluster 1'\n",
    "graph_DHS(df_sars2_cluster_DHS)"
   ]
  },
  {
   "cell_type": "code",
   "execution_count": null,
   "metadata": {},
   "outputs": [],
   "source": [
    "# perform RL analysis for SARS2 clusters vs ENHANCER\n",
    "\n",
    "sars2_cluster_enhancer = RL_analysis_comparative_otherVIR(df_SARS2_high, df_SARS2_low, df_chromhmm[df_chromhmm['RL'] == 'enhancer'])\n",
    "df_sars2_cluster_enhancer = decode_comparative(sars2_cluster_enhancer)\n",
    "for row in range(0,len(df_sars2_cluster_enhancer)):\n",
    "    if df_sars2_cluster_enhancer.loc[row,'group'] == 'Experimental Group 1':\n",
    "        df_sars2_cluster_enhancer.loc[row,'group'] = 'SARS2, Cluster 2'\n",
    "    elif df_sars2_cluster_enhancer.loc[row,'group'] == 'Experimental Group 2':\n",
    "        df_sars2_cluster_enhancer.loc[row,'group'] = 'SARS2, Cluster 1'\n",
    "graph_enhancer(df_sars2_cluster_enhancer)"
   ]
  },
  {
   "cell_type": "code",
   "execution_count": null,
   "metadata": {},
   "outputs": [],
   "source": [
    "# perform RL analysis for SARS2 clusters vs PROMOTER\n",
    "\n",
    "sars2_cluster_promoter = RL_analysis_comparative_otherVIR(df_SARS2_high, df_SARS2_low, df_chromhmm[df_chromhmm['RL'] == 'promoter'])\n",
    "df_sars2_cluster_promoter = decode_comparative(sars2_cluster_promoter)\n",
    "for row in range(0,len(df_sars2_cluster_DHS)):\n",
    "    if df_sars2_cluster_promoter.loc[row,'group'] == 'Experimental Group 1':\n",
    "        df_sars2_cluster_promoter.loc[row,'group'] = 'SARS2, Cluster 2'\n",
    "    elif df_sars2_cluster_promoter.loc[row,'group'] == 'Experimental Group 2':\n",
    "        df_sars2_cluster_promoter.loc[row,'group'] = 'SARS2, Cluster 1'\n",
    "graph_promoter(df_sars2_cluster_promoter)"
   ]
  },
  {
   "cell_type": "code",
   "execution_count": null,
   "metadata": {},
   "outputs": [],
   "source": [
    "# perform RL analysis for SARS2 clusters vs STRONG CTCFBS \n",
    "\n",
    "sars2_cluster_ctcf_strong = RL_analysis_comparative_otherVIR(df_SARS2_high, df_SARS2_low, df_ctcf_strong)\n",
    "df_sars2_cluster_ctcf_strong = decode_comparative(sars2_cluster_ctcf_strong)\n",
    "for row in range(0,len(df_sars2_cluster_ctcf_strong)):\n",
    "    if df_sars2_cluster_ctcf_strong.loc[row,'group'] == 'Experimental Group 1':\n",
    "        df_sars2_cluster_ctcf_strong.loc[row,'group'] = 'SARS2, Cluster 2'\n",
    "    elif df_sars2_cluster_ctcf_strong.loc[row,'group'] == 'Experimental Group 2':\n",
    "        df_sars2_cluster_ctcf_strong.loc[row,'group'] = 'SARS2, Cluster 1'\n",
    "graph_ctcf_strong(df_sars2_cluster_ctcf_strong)"
   ]
  }
 ],
 "metadata": {
  "kernelspec": {
   "display_name": "Python 3.10.6 64-bit",
   "language": "python",
   "name": "python3"
  },
  "language_info": {
   "codemirror_mode": {
    "name": "ipython",
    "version": 3
   },
   "file_extension": ".py",
   "mimetype": "text/x-python",
   "name": "python",
   "nbconvert_exporter": "python",
   "pygments_lexer": "ipython3",
   "version": "3.10.6"
  },
  "orig_nbformat": 4,
  "vscode": {
   "interpreter": {
    "hash": "31f2aee4e71d21fbe5cf8b01ff0e069b9275f58929596ceb00d14d90e3e16cd6"
   }
  }
 },
 "nbformat": 4,
 "nbformat_minor": 2
}
