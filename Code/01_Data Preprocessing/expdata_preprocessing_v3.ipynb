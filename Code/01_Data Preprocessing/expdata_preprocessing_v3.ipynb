{
 "cells": [
  {
   "cell_type": "code",
   "execution_count": null,
   "metadata": {},
   "outputs": [],
   "source": [
    "import pandas as pd\n",
    "import numpy as np\n",
    "import matplotlib.pyplot as plt\n",
    "import seaborn as sns"
   ]
  },
  {
   "cell_type": "markdown",
   "metadata": {},
   "source": [
    "#### HIV"
   ]
  },
  {
   "cell_type": "code",
   "execution_count": null,
   "metadata": {},
   "outputs": [],
   "source": [
    "df_group1 = pd.read_excel('Data/Raw/Suppl Data 1_Diff_methyl_CpG HIV+ pre-ART and HI.xlsx') # import raw data as df, HIV+preART/HIVneg\n",
    "df_group1 = df_group1[df_group1['Adjusted_p-value'] <= 0.05] # filter out any with insignificant p-values\n",
    "df_group1 = df_group1.drop(labels=['p-value','Adjusted_p-value','Relation to Island','Gen_Name','Gene_Region','Chromosome'], axis=1)\n",
    "\n",
    "df_group2 = pd.read_excel('Data/Raw/Suppl Data 2_Diff_methyl_CpG HIV+ pre-ART vs HIV+ post-ART.xlsx') # import raw data as df, HIV+preART/HIV+postART\n",
    "df_group2 = df_group2[df_group2['Adjusted_p-value'] <= 0.05] # filter out any with insignificant p-values\n",
    "df_group2 = df_group2.drop(labels=['p-value','Adjusted_p-value','Relation to Island','Gen_Name','Gene_Region','Chromosome'], axis=1)"
   ]
  },
  {
   "cell_type": "code",
   "execution_count": null,
   "metadata": {},
   "outputs": [],
   "source": [
    "## Data was downloaded from GEO Ascession Platform GPL21145 (11MAR23)\n",
    "## contains CpG genomic locations from the Illumina BeadChip platform used for analysis \n",
    "\n",
    "df_CpG_pos_orig = pd.read_csv('Data/Raw/CpGPositions_GPL21145-48548.txt',sep='\\t',low_memory=False) # import raw data as df\n",
    "df_CpG_pos = df_CpG_pos_orig.copy() # create copy of df for manipulation \n",
    "\n",
    "# remove unnecessary columns from the data frame\n",
    "headers = ['ID','Genome_Build','CHR','MAPINFO']\n",
    "df_CpG_pos = df_CpG_pos[headers]\n",
    "\n",
    "# remove CpG sites that do not follow format of experimental data (i.e. do not start with \"cg\")\n",
    "df_CpG_pos = df_CpG_pos[df_CpG_pos['ID'].str.startswith('cg')]\n",
    "\n",
    "# format df\n",
    "df_CpG_pos.set_index(df_CpG_pos['ID'], inplace = True)\n",
    "df_CpG_pos.rename_axis(index = None, inplace = True)\n",
    "df_CpG_pos = df_CpG_pos.drop(labels=['ID'],axis =1)\n",
    "\n",
    "df_CpG_pos.to_csv('Data/CpGPositions_FILTERED.csv') # save filtered df as csv"
   ]
  },
  {
   "cell_type": "code",
   "execution_count": null,
   "metadata": {},
   "outputs": [],
   "source": [
    "### GO DO LIFTOVER TO GET THE DF_CPG_POS INTO GENOME BUILD 38 ###\n",
    "df_CpG_pos['CHR_lift'] = str('chr')+df_CpG_pos['CHR']\n",
    "df_CpG_pos['start'] = df_CpG_pos['MAPINFO'].astype(int)\n",
    "df_CpG_pos['end'] = df_CpG_pos['MAPINFO'].astype(int)\n",
    "df_CpG_pos['CpG_ID'] = df_CpG_pos.index\n",
    "\n",
    "cols = ['CHR_lift','start','end','CpG_ID']\n",
    "df_CpG_pos_for_LO = df_CpG_pos[cols]\n",
    "df_CpG_pos_for_LO.to_csv('Data/CpGPositions_FILTERED_GHCR37.csv', sep='\\t', index=False) # save filtered df as csv"
   ]
  },
  {
   "cell_type": "code",
   "execution_count": null,
   "metadata": {},
   "outputs": [],
   "source": [
    "### IMPORT LIFTED CPG POSITIONS ###\n",
    "\n",
    "df_CpG_pos_lifted = pd.read_csv('Data/CpGPositions_FILTERED_hg38_LIFTED.txt', sep='\\t', names = ['CHR','start','end'], index_col=3, header=None)\n",
    "df_CpG_pos_lifted['Genome_Build'] = 38\n",
    "df_CpG_pos_lifted['CHR'] = df_CpG_pos_lifted['CHR'].map(lambda x: x[3:])\n",
    "df_CpG_pos_lifted['CHR'] = df_CpG_pos_lifted['CHR'].astype(str)"
   ]
  },
  {
   "cell_type": "code",
   "execution_count": null,
   "metadata": {},
   "outputs": [],
   "source": [
    "dict_CpG_pos_GB = df_CpG_pos_lifted['Genome_Build'].to_dict()\n",
    "dict_CpG_pos_CHR = df_CpG_pos_lifted['CHR'].to_dict()\n",
    "dict_CpG_pos_MAPINFO = df_CpG_pos_lifted['start'].to_dict()"
   ]
  },
  {
   "cell_type": "code",
   "execution_count": null,
   "metadata": {},
   "outputs": [],
   "source": [
    "# align genomic loci from illumina beadchip assay with the DMPs provided in the paper\n",
    "\n",
    "df_group1['GB'] = ''\n",
    "df_group1['CHR'] = ''\n",
    "df_group1['MAPINFO'] = ''\n",
    "for i in range(0,len(df_group1)):\n",
    "    df_group1.iloc[i,4] = dict_CpG_pos_GB[str(df_group1.iloc[i,0])]\n",
    "    df_group1.iloc[i,5] = dict_CpG_pos_CHR[str(df_group1.iloc[i,0])]\n",
    "    df_group1.iloc[i,6] = dict_CpG_pos_MAPINFO[str(df_group1.iloc[i,0])]\n",
    "df_group1.to_csv('Data/Group1_pos_LIFTED.csv') # save group1 data as csv file\n",
    "\n",
    "df_group2['GB'] = ''\n",
    "df_group2['CHR'] = ''\n",
    "df_group2['MAPINFO'] = ''\n",
    "for i in range(0,len(df_group2)):\n",
    "    df_group2.iloc[i,4] = dict_CpG_pos_GB[str(df_group2.iloc[i,0])]\n",
    "    df_group2.iloc[i,5] = dict_CpG_pos_CHR[str(df_group2.iloc[i,0])]\n",
    "    df_group2.iloc[i,6] = dict_CpG_pos_MAPINFO[str(df_group2.iloc[i,0])]\n",
    "df_group2.to_csv('Data/Group2_pos_LIFTED.csv') # save group2 data as csv file"
   ]
  },
  {
   "cell_type": "markdown",
   "metadata": {},
   "source": [
    "#### HPV:"
   ]
  },
  {
   "cell_type": "code",
   "execution_count": null,
   "metadata": {},
   "outputs": [],
   "source": [
    "df_HPV_full = pd.read_csv('Data/Raw/GSE24087_series_matrix_manipulated.txt',sep='\\t') # read in HPV methylation data as df\n",
    "# GSM593021 , SCC4 HPV(-)\n",
    "# GSM593022 , SCC74A HPV(-)\n",
    "# GSM593023 , SCC47 HPV(+)\n",
    "# GSM593024 , CaSki HPV(+)"
   ]
  },
  {
   "cell_type": "code",
   "execution_count": null,
   "metadata": {},
   "outputs": [],
   "source": [
    "df_HPV = df_HPV_full.copy()\n",
    "df_HPV.drop(columns=['GSM593022','GSM593024'], axis=1, inplace=True)\n",
    "df_HPV.rename({'ID_REF':'CpG_ID','GSM593021':'HPV_neg','GSM593023':'HPV_pos'}, axis=1, inplace=True)\n",
    "df_HPV['delta'] = df_HPV['HPV_pos'] - df_HPV['HPV_neg']\n",
    "df_HPV = df_HPV[abs(df_HPV['delta']) > (0.05 * df_HPV['HPV_neg'])]\n",
    "df_HPV.reset_index(inplace=True)\n",
    "df_HPV.drop(columns=['index'],inplace=True)"
   ]
  },
  {
   "cell_type": "code",
   "execution_count": null,
   "metadata": {},
   "outputs": [],
   "source": [
    "df_HPV['GB'] = ''\n",
    "df_HPV['CHR'] = ''\n",
    "df_HPV['MAPINFO'] = ''\n",
    "for i in range(0,len(df_HPV)):\n",
    "    if str(df_HPV.iloc[i,0]) in df_CpG_pos_lifted.index:\n",
    "        df_HPV.iloc[i,4] = dict_CpG_pos_GB[str(df_HPV.iloc[i,0])]\n",
    "        df_HPV.iloc[i,5] = dict_CpG_pos_CHR[str(df_HPV.iloc[i,0])]\n",
    "        df_HPV.iloc[i,6] = dict_CpG_pos_MAPINFO[str(df_HPV.iloc[i,0])]\n",
    "\n",
    "df_HPV['GB'].replace('',np.nan, inplace=True)\n",
    "df_HPV['CHR'].replace('',np.nan, inplace=True)\n",
    "df_HPV['MAPINFO'].replace('',np.nan, inplace=True)\n",
    "df_HPV.dropna(subset=['GB','CHR','MAPINFO'], inplace=True)\n",
    "df_HPV.reset_index(inplace=True)\n",
    "df_HPV.drop(columns=['index'],inplace=True)\n",
    "df_HPV['MAPINFO'] = df_HPV['MAPINFO'].astype(int)\n",
    "df_HPV['CHR'] = df_HPV['CHR'].astype(str)\n",
    "df_HPV.to_csv('Data/HPV_loci.csv') # save HPV data as csv file"
   ]
  },
  {
   "cell_type": "markdown",
   "metadata": {},
   "source": [
    "#### SARS2"
   ]
  },
  {
   "cell_type": "code",
   "execution_count": null,
   "metadata": {},
   "outputs": [],
   "source": [
    "df_SARS2_full = pd.read_csv('Data/Raw/43856_2021_42_MOESM2_ESM_edited.csv') # read in SARS2 methylation data as df\n",
    "col_of_interest = ['probeID','meanbeta_covid','meanbeta_control','deltabeta']\n",
    "df_SARS2 = df_SARS2_full[col_of_interest]\n",
    "df_SARS2.rename({'probeID':'CpG_ID'}, axis=1, inplace=True)"
   ]
  },
  {
   "cell_type": "code",
   "execution_count": null,
   "metadata": {},
   "outputs": [],
   "source": [
    "df_SARS2 = df_SARS2[abs(df_SARS2['deltabeta']) > (0.05 * df_SARS2['meanbeta_control'])]\n",
    "df_SARS2.reset_index(inplace=True)\n",
    "df_SARS2.drop(columns=['index'],inplace=True)"
   ]
  },
  {
   "cell_type": "code",
   "execution_count": null,
   "metadata": {},
   "outputs": [],
   "source": [
    "df_SARS2['GB'] = ''\n",
    "df_SARS2['CHR'] = ''\n",
    "df_SARS2['MAPINFO'] = ''\n",
    "for i in range(0,len(df_SARS2)):\n",
    "    if str(df_SARS2.iloc[i,0]) in df_CpG_pos_lifted.index:\n",
    "        df_SARS2.iloc[i,4] = dict_CpG_pos_GB[str(df_SARS2.iloc[i,0])]\n",
    "        df_SARS2.iloc[i,5] = dict_CpG_pos_CHR[str(df_SARS2.iloc[i,0])]\n",
    "        df_SARS2.iloc[i,6] = dict_CpG_pos_MAPINFO[str(df_SARS2.iloc[i,0])]\n",
    "\n",
    "df_SARS2['GB'].replace('',np.nan, inplace=True)\n",
    "df_SARS2['CHR'].replace('',np.nan, inplace=True)\n",
    "df_SARS2['MAPINFO'].replace('',np.nan, inplace=True)\n",
    "df_SARS2.dropna(subset=['GB','CHR','MAPINFO'], inplace=True)\n",
    "df_SARS2.reset_index(inplace=True)\n",
    "df_SARS2.drop(columns=['index'],inplace=True)\n",
    "df_SARS2['MAPINFO'] = df_SARS2['MAPINFO'].astype(int)\n",
    "df_SARS2['CHR'] = df_SARS2['CHR'].astype(str)\n",
    "df_SARS2.to_csv('Data/SARS2_loci.csv') # save SARS2 data as csv file"
   ]
  }
 ],
 "metadata": {
  "kernelspec": {
   "display_name": "Python 3.9.15 ('george')",
   "language": "python",
   "name": "python3"
  },
  "language_info": {
   "codemirror_mode": {
    "name": "ipython",
    "version": 3
   },
   "file_extension": ".py",
   "mimetype": "text/x-python",
   "name": "python",
   "nbconvert_exporter": "python",
   "pygments_lexer": "ipython3",
   "version": "3.9.15"
  },
  "orig_nbformat": 4,
  "vscode": {
   "interpreter": {
    "hash": "7fa37472597e9b4365a0b7db817c9892de82ecd81bdc64eff3f4a7ea139a2add"
   }
  }
 },
 "nbformat": 4,
 "nbformat_minor": 2
}
