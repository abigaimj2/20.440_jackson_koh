{
 "cells": [
  {
   "cell_type": "code",
   "execution_count": null,
   "metadata": {},
   "outputs": [],
   "source": [
    "import pandas as pd\n",
    "from tqdm import tqdm"
   ]
  },
  {
   "cell_type": "markdown",
   "metadata": {},
   "source": [
    "#### DHSs"
   ]
  },
  {
   "cell_type": "code",
   "execution_count": null,
   "metadata": {},
   "outputs": [],
   "source": [
    "df_dhs = pd.read_csv('Data/Raw/GRCh38_ENCFF503GCK.bed', index_col=0, sep='\\t', low_memory=False) # read in DHS data\n",
    "\n",
    "# reformat DHS data\n",
    "df_dhs['chr'] = df_dhs.index\n",
    "df_dhs.reset_index(inplace=True)\n",
    "df_dhs.rename_axis(index = None, inplace = True)\n",
    "df_dhs['chr'] = df_dhs['chr'].map(lambda x: x[3:])\n",
    "df_dhs['chr'] = df_dhs['chr'].astype(str)\n",
    "df_dhs = df_dhs[df_dhs['chr'] != 'X'] # select for autosomal chromosomes\n",
    "df_dhs = df_dhs[df_dhs['chr'] != 'Y'] # select for autosomal chromosomes\n",
    "df_dhs['mid'] = (df_dhs['start'] + df_dhs['end']) /2 # calculate midpoint\n",
    "df_dhs = df_dhs[['chr', 'mid','start','end']]\n",
    "df_dhs[\"mid\"] = df_dhs[\"mid\"].astype(\"int64\")\n",
    "df_dhs"
   ]
  },
  {
   "cell_type": "code",
   "execution_count": null,
   "metadata": {},
   "outputs": [],
   "source": [
    "df_dhs.to_csv('Data/dhs_ENCFF503GCK_GRCh38_clean_2.txt') # save DHS data to txt file"
   ]
  },
  {
   "cell_type": "markdown",
   "metadata": {},
   "source": [
    "#### CHROMHMM -- ENHANCERS + PROMOTERS"
   ]
  },
  {
   "cell_type": "code",
   "execution_count": null,
   "metadata": {},
   "outputs": [],
   "source": [
    "df_chromhmm = pd.read_csv('Data/Raw/Epilogos_FullDataDownload_15-state_hg38.txt', sep = '\\t') # read in ChromHMM data"
   ]
  },
  {
   "cell_type": "code",
   "execution_count": null,
   "metadata": {},
   "outputs": [],
   "source": [
    "# filter ChromHMM data\n",
    "\n",
    "drop_values = ['chrX', 'chrY']\n",
    "df_chromhmm = df_chromhmm[~df_chromhmm.Chrom.isin(drop_values)]\n",
    "df_chromhmm['Chrom'] = df_chromhmm['Chrom'].map(lambda x: x[3:])\n",
    "df_chromhmm['Chrom'] = df_chromhmm['Chrom'].astype(str)\n",
    "df_chromhmm = df_chromhmm[df_chromhmm['Chrom'] != 'X'] #select for autosomal chromosomes\n",
    "df_chromhmm = df_chromhmm[df_chromhmm['Chrom'] != 'Y'] #select for autosomal chromosomes\n",
    "\n",
    "cols_to_keep = ['state{}'.format(i) for i in range(1,16)]\n",
    "df_chromhmm_states = df_chromhmm[cols_to_keep]\n",
    "\n",
    "df_chromhmm_states['state'] = df_chromhmm_states.idxmax(axis=1)\n",
    "df_chromhmm_states['max_val'] = df_chromhmm_states.max(axis=1)\n",
    "\n",
    "df_chromhmm_filt = pd.concat([df_chromhmm[['Chrom', 'start', 'end']], df_chromhmm_states[['state', 'max_val']]], axis=1)\n",
    "drop_values = ['state{}'.format(i) for i in range(8, 16)]\n",
    "df_chromhmm_filt = df_chromhmm_filt[~df_chromhmm_filt.state.isin(drop_values)]\n",
    "df_chromhmm_filt.reset_index(inplace=True, drop=True)\n"
   ]
  },
  {
   "cell_type": "code",
   "execution_count": null,
   "metadata": {},
   "outputs": [],
   "source": [
    "df_chromhmm_filt['final_state'] = None\n",
    "\n",
    "# based on ChromHMM state, label loci as enhancers and promoters\n",
    "for idx in tqdm(df_chromhmm_filt.index):\n",
    "    if df_chromhmm_filt.loc[idx, 'state'] in ['state1', 'state2', 'state3']:\n",
    "        df_chromhmm_filt.loc[idx, 'final_state'] = 'promoter'\n",
    "    else:\n",
    "        df_chromhmm_filt.loc[idx, 'final_state'] = 'enhancer'\n",
    "df_chromhmm_filt"
   ]
  },
  {
   "cell_type": "code",
   "execution_count": null,
   "metadata": {},
   "outputs": [],
   "source": [
    "df_chromhmm_filt['mid'] = (df_chromhmm_filt['start'] + df_chromhmm_filt['end']) / 2 # calculate midpoint\n",
    "df_chromhmm_final = df_chromhmm_filt[['Chrom', 'mid', 'final_state', 'max_val', 'start', 'end', 'state']]\n",
    "df_chromhmm_final.rename(columns={'Chrom':'chr'}, inplace=True)"
   ]
  },
  {
   "cell_type": "code",
   "execution_count": null,
   "metadata": {},
   "outputs": [],
   "source": [
    "df_chromhmm_final"
   ]
  },
  {
   "cell_type": "code",
   "execution_count": null,
   "metadata": {},
   "outputs": [],
   "source": [
    "df_chromhmm_final.to_csv('Data/chromhmm_epilogos15statehg38_clean.txt') # export enhancer/promoter loci to txt"
   ]
  },
  {
   "cell_type": "markdown",
   "metadata": {},
   "source": [
    "#### CTCFbs"
   ]
  },
  {
   "cell_type": "code",
   "execution_count": null,
   "metadata": {},
   "outputs": [],
   "source": [
    "df_ctcf = pd.read_csv('Data/Raw/GRCh38_ctcf_locs_liftover_OUTPUT.bed', names = ['start','end'], index_col=0, sep='\\t')  # read in CTCFbs data\n",
    "df_ctcf['chr'] = df_ctcf.index\n",
    "df_ctcf.reset_index(inplace=True)\n",
    "df_ctcf['chr'] = df_ctcf['chr'].map(lambda x: x[3:])\n",
    "df_ctcf['chr'] = df_ctcf['chr'].astype(str)\n",
    "df_ctcf = df_ctcf[df_ctcf['chr'] != 'X'] # select for autosomal chromosomes\n",
    "df_ctcf = df_ctcf[df_ctcf['chr'] != 'Y'] # select for autosomal chromosomes\n",
    "df_ctcf['mid'] = (df_ctcf['start'] + df_ctcf['end']) /2  # calculate midpoint\n",
    "df_ctcf['mid'] = df_ctcf['mid'].astype('int64')\n",
    "df_ctcf = df_ctcf[['chr', 'mid','start','end']]\n",
    "df_ctcf\n",
    "\n",
    "\n",
    "df_ctcf.dropna(inplace=True)"
   ]
  },
  {
   "cell_type": "code",
   "execution_count": null,
   "metadata": {},
   "outputs": [],
   "source": [
    "df_ctcf.to_csv('Data/ctcf_loci_GRCh38_clean_2.txt') # save CTCFbs"
   ]
  },
  {
   "cell_type": "code",
   "execution_count": null,
   "metadata": {},
   "outputs": [],
   "source": [
    "## Filter CTCFs using insulation scores to identify strong CTCFs\n",
    "\n",
    "# load the insulation ranges \n",
    "df_i_score = pd.read_csv('Data/Raw/insulation_scores.csv', index_col=0) \n",
    "ranges = []\n",
    "for i in df_i_score.index:\n",
    "     ranges.append((df_i_score.loc[i, 'start'], df_i_score.loc[i, 'end']))\n",
    "len(ranges)"
   ]
  },
  {
   "cell_type": "code",
   "execution_count": null,
   "metadata": {},
   "outputs": [],
   "source": [
    "## Filter CTCFs using insulation scores to identify strong CTCFs\n",
    "\n",
    "df_ctcf_selected = None\n",
    "for chr_id in range(1, 23):\n",
    "    chr_id = str(chr_id)\n",
    "    print('Going for chr {}'.format(chr_id))\n",
    "\n",
    "    # select subset correct for the chr \n",
    "    df_i_score_chr = df_i_score[df_i_score['Chr'] == int(chr_id)]\n",
    "    df_i_score_chr.reset_index(inplace=True)\n",
    "    \n",
    "    df_ctcf_chr = df_ctcf[df_ctcf['chr'] == chr_id]\n",
    "    df_ctcf_chr.reset_index(inplace=True, drop=True)\n",
    "\n",
    "    mask = []\n",
    "    for ctcf_idx in tqdm(df_ctcf_chr.index):\n",
    "        mid_point_ctcf = df_ctcf_chr.loc[ctcf_idx, 'mid']\n",
    "        if any(lower <= mid_point_ctcf <= upper for (lower, upper) in ranges):\n",
    "            mask.append(True)\n",
    "        else:\n",
    "            mask.append(False)\n",
    "\n",
    "    df_ctcf_chr = df_ctcf_chr[mask].reset_index(drop=True)\n",
    "\n",
    "    if chr_id == '1':\n",
    "        df_ctcf_selected = df_ctcf_chr\n",
    "    else:\n",
    "        df_ctcf_selected = pd.concat([df_ctcf_selected, df_ctcf_chr])\n",
    "\n",
    "df_ctcf_selected.reset_index(inplace=True)"
   ]
  },
  {
   "cell_type": "code",
   "execution_count": null,
   "metadata": {},
   "outputs": [],
   "source": [
    "df_ctcf_selected.drop(columns=['index'], inplace=True)\n",
    "df_ctcf_selected[\"mid\"] = df_ctcf_selected[\"mid\"].astype(\"int64\")"
   ]
  },
  {
   "cell_type": "code",
   "execution_count": null,
   "metadata": {},
   "outputs": [],
   "source": [
    "df_ctcf_selected.to_csv('Data/ctcf__STRONG_loci_GRCh38_clean_2.csv') # save strong CTCFbs positions to csv"
   ]
  }
 ],
 "metadata": {
  "kernelspec": {
   "display_name": "Python 3.9.15 ('george')",
   "language": "python",
   "name": "python3"
  },
  "language_info": {
   "codemirror_mode": {
    "name": "ipython",
    "version": 3
   },
   "file_extension": ".py",
   "mimetype": "text/x-python",
   "name": "python",
   "nbconvert_exporter": "python",
   "pygments_lexer": "ipython3",
   "version": "3.9.15"
  },
  "orig_nbformat": 4,
  "vscode": {
   "interpreter": {
    "hash": "7fa37472597e9b4365a0b7db817c9892de82ecd81bdc64eff3f4a7ea139a2add"
   }
  }
 },
 "nbformat": 4,
 "nbformat_minor": 2
}
